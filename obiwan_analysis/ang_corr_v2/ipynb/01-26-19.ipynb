{
 "cells": [
  {
   "cell_type": "code",
   "execution_count": 4,
   "metadata": {},
   "outputs": [
    {
     "name": "stdout",
     "output_type": "stream",
     "text": [
      "Populating the interactive namespace from numpy and matplotlib\n"
     ]
    }
   ],
   "source": [
    "#correlation function for match obiwan randoms\n",
    "%pylab inline\n",
    "import matplotlib.pyplot as plt\n",
    "import numpy as np\n",
    "fn_obiwan_chunk21 = 'obiwan_200per_0125_chunk21_obiwan.out'\n",
    "Corr_dir = '/global/cscratch1/sd/huikong/obiwan_Aug/repos_for_docker/obiwan_out/obiwan_corr/corr_output/'"
   ]
  },
  {
   "cell_type": "code",
   "execution_count": 7,
   "metadata": {},
   "outputs": [],
   "source": [
    "dat = np.loadtxt(Corr_dir+fn_obiwan_chunk21).transpose()\n"
   ]
  },
  {
   "cell_type": "code",
   "execution_count": 11,
   "metadata": {},
   "outputs": [
    {
     "name": "stdout",
     "output_type": "stream",
     "text": [
      "Populating the interactive namespace from numpy and matplotlib\n"
     ]
    }
   ],
   "source": [
    "%pylab inline\n",
    "import matplotlib.pyplot as plt\n",
    "def corr_plot(Corr_dir,title = 'eboss ELG', *argv):\n",
    "        fns = []\n",
    "        for arg in argv:\n",
    "            fns.append(arg)\n",
    "        for fn in fns:\n",
    "            dat = np.loadtxt(Corr_dir+fn).transpose()\n",
    "            plt.errorbar(dat[0],dat[1]*dat[0],dat[0]*dat[2],label = fn[:-4])\n",
    "        plt.gca().set_xscale(\"log\", nonposx='clip')\n",
    "        zeros = np.zeros(len(dat[0]))\n",
    "        #plt.errorbar(dat[0],dat[1]*dat[0],dat[0]*dat[2])\n",
    "        plt.legend()\n",
    "        plt.plot(dat[0],zeros,'b--')\n",
    "        plt.xlabel(r'$\\theta$'+'(Degree)')\n",
    "        plt.ylabel(r'$\\theta$'+'*w('+r'$\\theta$'+')')\n",
    "        plt.title(title)\n",
    "        \n",
    "def corr_plot_natural(Corr_dir,title = 'eboss ELG',*argv):\n",
    "        fns = []\n",
    "        for arg in argv:\n",
    "            fns.append(arg)\n",
    "        for fn in fns:\n",
    "            dat = np.loadtxt(Corr_dir+fn).transpose()\n",
    "            plt.errorbar(dat[0],dat[1]*dat[0],dat[0]*dat[2],label = fn[:-4])\n",
    "        plt.legend()\n",
    "        plt.xlabel(r'$\\theta$'+'(Degree)')\n",
    "        plt.ylabel(r'$\\theta$'+'*w('+r'$\\theta$'+')')\n",
    "        plt.title(title)"
   ]
  },
  {
   "cell_type": "code",
   "execution_count": 14,
   "metadata": {},
   "outputs": [
    {
     "ename": "SyntaxError",
     "evalue": "non-keyword arg after keyword arg (<ipython-input-14-3f1799b5f28d>, line 1)",
     "output_type": "error",
     "traceback": [
      "\u001b[0;36m  File \u001b[0;32m\"<ipython-input-14-3f1799b5f28d>\"\u001b[0;36m, line \u001b[0;32m1\u001b[0m\n\u001b[0;31m    corr_plot(Corr_dir,title = 'eboss ELG',fn_obiwan_chunk21)\u001b[0m\n\u001b[0;31mSyntaxError\u001b[0m\u001b[0;31m:\u001b[0m non-keyword arg after keyword arg\n"
     ]
    }
   ],
   "source": [
    "corr_plot(Corr_dir,title = 'eboss ELG',fn_obiwan_chunk21)"
   ]
  },
  {
   "cell_type": "code",
   "execution_count": null,
   "metadata": {},
   "outputs": [],
   "source": []
  }
 ],
 "metadata": {
  "kernelspec": {
   "display_name": "Python (mangle_env)",
   "language": "python",
   "name": "mangle_env"
  },
  "language_info": {
   "codemirror_mode": {
    "name": "ipython",
    "version": 2
   },
   "file_extension": ".py",
   "mimetype": "text/x-python",
   "name": "python",
   "nbconvert_exporter": "python",
   "pygments_lexer": "ipython2",
   "version": "2.7.14"
  }
 },
 "nbformat": 4,
 "nbformat_minor": 2
}
