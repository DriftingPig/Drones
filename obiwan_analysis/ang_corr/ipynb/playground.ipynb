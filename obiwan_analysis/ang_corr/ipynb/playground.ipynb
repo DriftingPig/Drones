{
 "cells": [
  {
   "cell_type": "code",
   "execution_count": 5,
   "metadata": {},
   "outputs": [
    {
     "name": "stdout",
     "output_type": "stream",
     "text": [
      "#!/bin/bash -l\n",
      "\n",
      "#source this file before performing any obiwan production runs or obiwan analysis\n",
      "\n",
      "#for determining whether this file is sourced\n",
      "export DRONES_ACTIVATION=True\n",
      "\n",
      "#DRONES current directory\n",
      "export DRONES_DIR=/global/cscratch1/sd/huikong/obiwan_Aug/repos_for_docker/obiwan_code/py/obiwan/Drones\n",
      "\n",
      "#some excecutable python packages: master-slave code\n",
      "export PYTHONPATH=$DRONES_DIR/py:$PYTHONPATH\n",
      "\n",
      "#general output directory for obiwan production run\n",
      "export obiwan_out=/global/cscratch1/sd/huikong/obiwan_Aug/repos_for_docker/obiwan_out/\n",
      "\n",
      "#obiwan production run output directory, it comes with a production run name\n",
      "export production_run_sgc=$obiwan_out/elg_200per_run/tractor/\n",
      "\n",
      "#tractor data for dr3\n",
      "export dr3_tractor_data=/global/project/projectdirs/cosmo/data/legacysurvey/dr3/tractor\n",
      "\n"
     ]
    }
   ],
   "source": [
    "!cat ../../../DRONES_ENV.sh"
   ]
  },
  {
   "cell_type": "code",
   "execution_count": 5,
   "metadata": {},
   "outputs": [],
   "source": [
    "import os\n",
    "import glob\n",
    "from astropy.io import fits\n",
    "dr3_tractor_data='/global/project/projectdirs/cosmo/data/legacysurvey/dr3/tractor'\n",
    "subset = '/global/cscratch1/sd/huikong/obiwan_Aug/repos_for_docker/obiwan_out/subset'\n",
    "elg_dat = subset+'/eBOSS_ELG_full_ALL_v4.dat.fits'"
   ]
  },
  {
   "cell_type": "code",
   "execution_count": 15,
   "metadata": {},
   "outputs": [],
   "source": [
    "elg = fits.getdata(elg_dat)"
   ]
  },
  {
   "cell_type": "code",
   "execution_count": 16,
   "metadata": {},
   "outputs": [
    {
     "data": {
      "text/plain": [
       "ColDefs(\n",
       "    name = 'RA'; format = 'D'; unit = 'degrees'\n",
       "    name = 'DEC'; format = 'D'; unit = 'degrees'\n",
       "    name = 'Z'; format = 'D'\n",
       "    name = 'WEIGHT_SYSTOT'; format = 'D'\n",
       "    name = 'WEIGHT_CP'; format = 'D'\n",
       "    name = 'WEIGHT_NOZ'; format = 'D'\n",
       "    name = 'NZ'; format = 'D'; unit = '(h/Mpc)^3'\n",
       "    name = 'WEIGHT_FKP'; format = 'D'\n",
       "    name = 'sector_TSR'; format = 'D'\n",
       "    name = 'COMP_BOSS'; format = 'D'\n",
       "    name = 'plate_MJD_SSR'; format = 'D'\n",
       "    name = 'sector_SSR'; format = 'D'\n",
       "    name = 'chunk'; format = '7A'\n",
       "    name = 'plate'; format = 'J'\n",
       "    name = 'tile'; format = 'J'\n",
       "    name = 'MJD'; format = 'J'\n",
       "    name = 'sector'; format = 'J'\n",
       "    name = 'ELG_sector'; format = 'J'\n",
       "    name = 'sector_area'; format = 'D'; unit = 'degrees^2'\n",
       "    name = 'sector_ntiles'; format = 'I'\n",
       "    name = 'sector_tiles'; format = '4I'\n",
       "    name = 'INGROUP'; format = 'J'\n",
       "    name = 'ELG_INGROUP'; format = 'J'\n",
       "    name = 'MULTGROUP'; format = 'J'\n",
       "    name = 'EBOSS_TARGET1'; format = 'K'\n",
       "    name = 'BOSSTILE_STATUS'; format = 'J'\n",
       "    name = 'TRIMMED'; format = 'J'\n",
       "    name = 'brickname'; format = '8A'\n",
       "    name = 'decals_objid'; format = 'J'\n",
       "    name = 'decals_uniqid'; format = '27A'\n",
       "    name = 'decals_dr'; format = '20A'\n",
       "    name = 'type'; format = '5A'\n",
       "    name = 'ebv'; format = 'D'; unit = 'mag'\n",
       "    name = 'nobs_g'; format = 'J'\n",
       "    name = 'nobs_r'; format = 'J'\n",
       "    name = 'nobs_z'; format = 'J'\n",
       "    name = 'psfdepth_g'; format = 'D'; unit = 'nanomaggies^-2'\n",
       "    name = 'psfdepth_r'; format = 'D'; unit = 'nanomaggies^-2'\n",
       "    name = 'psfdepth_z'; format = 'D'; unit = 'nanomaggies^-2'\n",
       "    name = 'galdepth_g'; format = 'D'; unit = 'nanomaggies^-2'\n",
       "    name = 'galdepth_r'; format = 'D'; unit = 'nanomaggies^-2'\n",
       "    name = 'galdepth_z'; format = 'D'; unit = 'nanomaggies^-2'\n",
       "    name = 'psfsize_g'; format = 'D'; unit = 'arsec'\n",
       "    name = 'psfsize_r'; format = 'D'; unit = 'arsec'\n",
       "    name = 'psfsize_z'; format = 'D'; unit = 'arsec'\n",
       "    name = 'g'; format = 'D'; unit = 'nanommaggies'\n",
       "    name = 'gr'; format = 'D'; unit = 'nanommaggies'\n",
       "    name = 'rz'; format = 'D'; unit = 'nanommaggies'\n",
       "    name = 'hpgaiastardens'; format = 'D'; unit = 'deg^-2'\n",
       "    name = 'IMATCH'; format = 'I'\n",
       "    name = 'EBOSS_TARGET_ID'; format = 'K'\n",
       "    name = 'hasfiber'; format = 'I'\n",
       "    name = 'CARTID'; format = 'J'\n",
       "    name = 'XFOCAL'; format = 'D'; unit = 'millimeters'\n",
       "    name = 'YFOCAL'; format = 'D'; unit = 'millimeters'\n",
       "    name = 'FIBERID'; format = 'J'\n",
       "    name = 'PLUG_RA'; format = 'D'; unit = 'degrees'\n",
       "    name = 'PLUG_DEC'; format = 'D'; unit = 'degrees'\n",
       "    name = 'plate_rSN2'; format = 'D'\n",
       "    name = 'SN_MEDIAN'; format = '5D'\n",
       "    name = 'SN_MEDIAN_ALL'; format = 'D'\n",
       "    name = 'plate_MJD_SN_MEDIAN_ALL'; format = 'D'\n",
       "    name = 'Z_ok'; format = 'L'\n",
       "    name = 'CHI2'; format = 'D'\n",
       "    name = 'DELTACHI2'; format = 'D'\n",
       "    name = 'COEFF'; format = '10D'\n",
       "    name = 'ZERR'; format = 'D'\n",
       "    name = 'ZWARN'; format = 'K'\n",
       "    name = 'NPIXELS'; format = 'K'\n",
       "    name = 'SPECTYPE'; format = '6A'\n",
       "    name = 'SUBTYPE'; format = '6A'\n",
       "    name = 'NCOEFF'; format = 'K'\n",
       "    name = 'fast_id'; format = 'J'\n",
       "    name = 'fast_z'; format = 'D'\n",
       "    name = 'fast_lmass'; format = 'D'; unit = 'solar unit'\n",
       "    name = 'centerpost'; format = 'L'\n",
       "    name = 'MODEL_Z'; format = 'D'\n",
       "    name = 'zfail_platesn'; format = 'D'\n",
       "    name = 'zfail_fiberid'; format = 'D'\n",
       ")"
      ]
     },
     "execution_count": 16,
     "metadata": {},
     "output_type": "execute_result"
    }
   ],
   "source": [
    "elg.columns"
   ]
  },
  {
   "cell_type": "code",
   "execution_count": 4,
   "metadata": {},
   "outputs": [
    {
     "data": {
      "text/plain": [
       "ColDefs(\n",
       "    name = 'brickid'; format = 'J'\n",
       "    name = 'brickname'; format = '8A'\n",
       "    name = 'objid'; format = 'J'\n",
       "    name = 'brick_primary'; format = 'L'\n",
       "    name = 'blob'; format = 'J'\n",
       "    name = 'ninblob'; format = 'I'\n",
       "    name = 'tycho2inblob'; format = 'L'\n",
       "    name = 'type'; format = '4A'\n",
       "    name = 'ra'; format = 'D'; unit = 'deg'\n",
       "    name = 'ra_ivar'; format = 'E'; unit = '1/deg^2'\n",
       "    name = 'dec'; format = 'D'; unit = 'deg'\n",
       "    name = 'dec_ivar'; format = 'E'; unit = '1/deg^2'\n",
       "    name = 'bx'; format = 'E'\n",
       "    name = 'by'; format = 'E'\n",
       "    name = 'bx0'; format = 'E'\n",
       "    name = 'by0'; format = 'E'\n",
       "    name = 'left_blob'; format = 'L'\n",
       "    name = 'out_of_bounds'; format = 'L'\n",
       "    name = 'dchisq'; format = '5E'\n",
       "    name = 'ebv'; format = 'E'; unit = 'mag'\n",
       "    name = 'cpu_source'; format = 'E'\n",
       "    name = 'cpu_blob'; format = 'E'\n",
       "    name = 'blob_width'; format = 'I'\n",
       "    name = 'blob_height'; format = 'I'\n",
       "    name = 'blob_npix'; format = 'J'\n",
       "    name = 'blob_nimages'; format = 'I'\n",
       "    name = 'blob_totalpix'; format = 'J'\n",
       "    name = 'decam_flux'; format = '6E'; unit = 'nanomaggy'\n",
       "    name = 'decam_flux_ivar'; format = '6E'; unit = '1/nanomaggy^2'\n",
       "    name = 'decam_apflux'; format = '48E'; unit = 'nanomaggy'; dim = '(8,6)'\n",
       "    name = 'decam_apflux_resid'; format = '48E'; unit = 'nanomaggy'; dim = '(8,6)'\n",
       "    name = 'decam_apflux_ivar'; format = '48E'; unit = '1/nanomaggy^2'; dim = '(8,6)'\n",
       "    name = 'decam_mw_transmission'; format = '6E'\n",
       "    name = 'decam_nobs'; format = '6B'\n",
       "    name = 'decam_rchi2'; format = '6E'\n",
       "    name = 'decam_fracflux'; format = '6E'\n",
       "    name = 'decam_fracmasked'; format = '6E'\n",
       "    name = 'decam_fracin'; format = '6E'\n",
       "    name = 'decam_anymask'; format = '6I'\n",
       "    name = 'decam_allmask'; format = '6I'\n",
       "    name = 'decam_psfsize'; format = '6E'\n",
       "    name = 'wise_flux'; format = '4E'; unit = 'nanomaggy'\n",
       "    name = 'wise_flux_ivar'; format = '4E'; unit = '1/nanomaggy^2'\n",
       "    name = 'wise_mw_transmission'; format = '4E'\n",
       "    name = 'wise_nobs'; format = '4I'\n",
       "    name = 'wise_fracflux'; format = '4E'\n",
       "    name = 'wise_rchi2'; format = '4E'\n",
       "    name = 'wise_lc_flux'; format = '10E'; unit = 'nanomaggy'; dim = '(5,2)'\n",
       "    name = 'wise_lc_flux_ivar'; format = '10E'; unit = '1/nanomaggy^2'; dim = '(5,2)'\n",
       "    name = 'wise_lc_nobs'; format = '10I'; dim = '(5,2)'\n",
       "    name = 'wise_lc_fracflux'; format = '10E'; dim = '(5,2)'\n",
       "    name = 'wise_lc_rchi2'; format = '10E'; dim = '(5,2)'\n",
       "    name = 'wise_lc_mjd'; format = '10E'; dim = '(5,2)'\n",
       "    name = 'fracDev'; format = 'E'\n",
       "    name = 'fracDev_ivar'; format = 'E'\n",
       "    name = 'shapeExp_r'; format = 'E'; unit = 'arcsec'\n",
       "    name = 'shapeExp_r_ivar'; format = 'E'; unit = '1/arcsec^2'\n",
       "    name = 'shapeExp_e1'; format = 'E'\n",
       "    name = 'shapeExp_e1_ivar'; format = 'E'\n",
       "    name = 'shapeExp_e2'; format = 'E'\n",
       "    name = 'shapeExp_e2_ivar'; format = 'E'\n",
       "    name = 'shapeDev_r'; format = 'E'; unit = 'arcsec'\n",
       "    name = 'shapeDev_r_ivar'; format = 'E'; unit = '1/arcsec^2'\n",
       "    name = 'shapeDev_e1'; format = 'E'\n",
       "    name = 'shapeDev_e1_ivar'; format = 'E'\n",
       "    name = 'shapeDev_e2'; format = 'E'\n",
       "    name = 'shapeDev_e2_ivar'; format = 'E'\n",
       "    name = 'decam_depth'; format = '6E'; unit = '1/nanomaggy^2'\n",
       "    name = 'decam_galdepth'; format = '6E'; unit = '1/nanomaggy^2'\n",
       ")"
      ]
     },
     "execution_count": 4,
     "metadata": {},
     "output_type": "execute_result"
    }
   ],
   "source": [
    "tc = fits.getdata('/global/project/projectdirs/cosmo/data/legacysurvey/dr3/tractor/000/tractor-0001m002.fits')\n",
    "tc.columns"
   ]
  },
  {
   "cell_type": "code",
   "execution_count": 6,
   "metadata": {},
   "outputs": [
    {
     "data": {
      "text/plain": [
       "ColDefs(\n",
       "    name = 'ra'; format = 'D'\n",
       "    name = 'dec'; format = 'D'\n",
       "    name = 'nn_redshift'; format = 'D'\n",
       "    name = 'sim_in'; format = 'L'\n",
       "    name = 'sim_true'; format = 'L'\n",
       "    name = 'VETOMASK'; format = 'B'\n",
       "    name = 'MCHUNK'; format = 'B'\n",
       ")"
      ]
     },
     "execution_count": 6,
     "metadata": {},
     "output_type": "execute_result"
    }
   ],
   "source": [
    "#DEEP2 z range check\n",
    "fn_sim_match = 'sim_match_200per_0125_masked.fits'\n",
    "topdir = '/global/cscratch1/sd/huikong/obiwan_Aug/repos_for_docker/obiwan_out/subset/'\n",
    "sim_match = fits.getdata(topdir + fn_sim_match)\n",
    "sim_match.columns"
   ]
  },
  {
   "cell_type": "code",
   "execution_count": 26,
   "metadata": {},
   "outputs": [
    {
     "name": "stdout",
     "output_type": "stream",
     "text": [
      "Populating the interactive namespace from numpy and matplotlib\n"
     ]
    },
    {
     "data": {
      "text/plain": [
       "Text(0.5,0,'redshift')"
      ]
     },
     "execution_count": 26,
     "metadata": {},
     "output_type": "execute_result"
    },
    {
     "data": {
      "image/png": "[encoded data removed]",
      "text/plain": [
       "<matplotlib.figure.Figure at 0x2aaaf2313780>"
      ]
     },
     "metadata": {},
     "output_type": "display_data"
    }
   ],
   "source": [
    "%pylab inline\n",
    "deep2 = sim_match[~sim_match['sim_true']]\n",
    "import matplotlib.pyplot as plt\n",
    "s = plt.hist(deep2['nn_redshift'],bins = 50)\n",
    "plt.title('randoms outside ELG color box')\n",
    "plt.xlabel('redshift')"
   ]
  },
  {
   "cell_type": "code",
   "execution_count": 25,
   "metadata": {},
   "outputs": [
    {
     "data": {
      "text/plain": [
       "Text(0.5,0,'redshift')"
      ]
     },
     "execution_count": 25,
     "metadata": {},
     "output_type": "execute_result"
    },
    {
     "data": {
      "image/png": "[encoded data removed]",
      "text/plain": [
       "<matplotlib.figure.Figure at 0x2aaae0483048>"
      ]
     },
     "metadata": {},
     "output_type": "display_data"
    }
   ],
   "source": [
    "dr3 = sim_match[sim_match['sim_true']]\n",
    "s = plt.hist(dr3['nn_redshift'],bins = 50)\n",
    "plt.title('randoms inisde ELG color box')\n",
    "plt.xlabel('redshift')"
   ]
  },
  {
   "cell_type": "code",
   "execution_count": 24,
   "metadata": {},
   "outputs": [
    {
     "data": {
      "text/plain": [
       "Text(0.5,0,'redshift')"
      ]
     },
     "execution_count": 24,
     "metadata": {},
     "output_type": "execute_result"
    },
    {
     "data": {
      "image/png": "[encoded data removed]",
      "text/plain": [
       "<matplotlib.figure.Figure at 0x2aaaf21fe9e8>"
      ]
     },
     "metadata": {},
     "output_type": "display_data"
    }
   ],
   "source": [
    "fn_sim = 'sim_200per_0125.fits'\n",
    "sim= fits.getdata(topdir + fn_sim)\n",
    "s = plt.hist(sim['nn_redshift'],bins=30)\n",
    "plt.title('all randoms')\n",
    "plt.xlabel('redshift')"
   ]
  },
  {
   "cell_type": "code",
   "execution_count": 16,
   "metadata": {},
   "outputs": [
    {
     "data": {
      "text/plain": [
       "ColDefs(\n",
       "    name = 'redshift'; format = 'D'\n",
       "    name = 'g'; format = 'D'\n",
       "    name = 'r'; format = 'D'\n",
       "    name = 'z'; format = 'D'\n",
       "    name = 'nn_redshift'; format = 'D'\n",
       "    name = 'n'; format = 'D'\n",
       "    name = 'id_sample'; format = '32A'\n",
       "    name = 'rhalf'; format = 'D'\n",
       "    name = 'id'; format = 'J'\n",
       "    name = 'ra'; format = 'D'\n",
       "    name = 'dec'; format = 'D'\n",
       "    name = 'ba'; format = 'D'\n",
       "    name = 'pa'; format = 'D'\n",
       ")"
      ]
     },
     "execution_count": 16,
     "metadata": {},
     "output_type": "execute_result"
    }
   ],
   "source": [
    "sim.columns"
   ]
  },
  {
   "cell_type": "code",
   "execution_count": 70,
   "metadata": {},
   "outputs": [
    {
     "data": {
      "image/png": "[encoded data removed]",
      "text/plain": [
       "<matplotlib.figure.Figure at 0x2aaaf10871d0>"
      ]
     },
     "metadata": {},
     "output_type": "display_data"
    }
   ],
   "source": [
    "dat = fits.getdata('/global/cscratch1/sd/huikong/obiwan_Aug/HPSS/randoms/elg_dr5/randoms_rank_184.fits')\n",
    "s=plt.hist(dat['redshift'],bins=50)"
   ]
  },
  {
   "cell_type": "code",
   "execution_count": 77,
   "metadata": {},
   "outputs": [
    {
     "data": {
      "text/plain": [
       "Text(0.5,1,'NGC sim')"
      ]
     },
     "execution_count": 77,
     "metadata": {},
     "output_type": "execute_result"
    },
    {
     "data": {
      "image/png": "[encoded data removed]",
      "text/plain": [
       "<matplotlib.figure.Figure at 0x2aaaf16147f0>"
      ]
     },
     "metadata": {},
     "output_type": "display_data"
    }
   ],
   "source": [
    "s=plt.hist(dat['g'],bins=50,label = 'g')\n",
    "s=plt.hist(dat['r'],bins=50,alpha=0.5,label='r')\n",
    "s=plt.hist(dat['z'],bins=50,alpha=0.5,label='z')\n",
    "plt.legend()\n",
    "plt.title('NGC sim')Ok."
   ]
  },
  {
   "cell_type": "code",
   "execution_count": 29,
   "metadata": {},
   "outputs": [
    {
     "data": {
      "text/plain": [
       "ColDefs(\n",
       "    name = 'id'; format = 'J'\n",
       "    name = 'ra'; format = 'D'\n",
       "    name = 'dec'; format = 'D'\n",
       "    name = 'redshift'; format = '1D'\n",
       "    name = 'id_5d10k_sample'; format = 'K'\n",
       "    name = 'g'; format = 'D'\n",
       "    name = 'r'; format = 'D'\n",
       "    name = 'z'; format = 'D'\n",
       "    name = 'rhalf'; format = 'D'\n",
       "    name = 'n'; format = 'D'\n",
       "    name = 'ba'; format = 'D'\n",
       "    name = 'pa'; format = 'D'\n",
       ")"
      ]
     },
     "execution_count": 29,
     "metadata": {},
     "output_type": "execute_result"
    }
   ],
   "source": [
    "dat.columns"
   ]
  },
  {
   "cell_type": "code",
   "execution_count": 80,
   "metadata": {},
   "outputs": [
    {
     "data": {
      "image/png": "[encoded data removed]",
      "text/plain": [
       "<matplotlib.figure.Figure at 0x2aaaf18f9b70>"
      ]
     },
     "metadata": {},
     "output_type": "display_data"
    }
   ],
   "source": [
    "tt = plt.hist(dat['rhalf'],bins = 50)"
   ]
  },
  {
   "cell_type": "code",
   "execution_count": 32,
   "metadata": {},
   "outputs": [
    {
     "data": {
      "text/plain": [
       "[<matplotlib.lines.Line2D at 0x2aaaf250d940>]"
      ]
     },
     "execution_count": 32,
     "metadata": {},
     "output_type": "execute_result"
    },
    {
     "data": {
      "image/png": "[encoded data removed]",
      "text/plain": [
       "<matplotlib.figure.Figure at 0x2aaaf24751d0>"
      ]
     },
     "metadata": {},
     "output_type": "display_data"
    }
   ],
   "source": [
    "plt.plot(dat['ra'],dat['dec'],'r,')"
   ]
  },
  {
   "cell_type": "code",
   "execution_count": 33,
   "metadata": {},
   "outputs": [
    {
     "data": {
      "text/plain": [
       "(array([   6730.,  100905.,  224559.,  216635.,  162867.,  139946.,\n",
       "          77522.,   46227.,   22235.,    2374.]),\n",
       " array([ 0.44610156,  0.58066081,  0.71522005,  0.8497793 ,  0.98433854,\n",
       "         1.11889779,  1.25345704,  1.38801628,  1.52257553,  1.65713477,\n",
       "         1.79169402]),\n",
       " <a list of 10 Patch objects>)"
      ]
     },
     "execution_count": 33,
     "metadata": {},
     "output_type": "execute_result"
    },
    {
     "data": {
      "image/png": "[encoded data removed]",
      "text/plain": [
       "<matplotlib.figure.Figure at 0x2aaae04e4da0>"
      ]
     },
     "metadata": {},
     "output_type": "display_data"
    }
   ],
   "source": [
    "dat = fits.getdata('/global/cscratch1/sd/huikong/obiwan_Aug/HPSS/randoms/elg_dr5/randoms_rank_234.fits')\n",
    "plt.hist(dat['redshift'])"
   ]
  },
  {
   "cell_type": "code",
   "execution_count": 34,
   "metadata": {},
   "outputs": [
    {
     "data": {
      "text/plain": [
       "(array([   4027.,   89297.,  227513.,  225595.,  167842.,  143513.,\n",
       "          75608.,   45914.,   19476.,    1215.]),\n",
       " array([ 0.42789989,  0.56662424,  0.70534858,  0.84407293,  0.98279728,\n",
       "         1.12152163,  1.26024598,  1.39897033,  1.53769467,  1.67641902,\n",
       "         1.81514337]),\n",
       " <a list of 10 Patch objects>)"
      ]
     },
     "execution_count": 34,
     "metadata": {},
     "output_type": "execute_result"
    },
    {
     "data": {
      "image/png": "[encoded data removed]",
      "text/plain": [
       "<matplotlib.figure.Figure at 0x2aaaf2517b38>"
      ]
     },
     "metadata": {},
     "output_type": "display_data"
    }
   ],
   "source": [
    "dat = fits.getdata('/global/cscratch1/sd/huikong/obiwan_Aug/HPSS/randoms/elg_dr5/randoms_rank_334.fits')\n",
    "plt.hist(dat['redshift'])"
   ]
  },
  {
   "cell_type": "code",
   "execution_count": 47,
   "metadata": {},
   "outputs": [],
   "source": [
    "fn = '/global/cscratch1/sd/huikong/obiwan_Aug/repos_for_docker/obiwan_code/etc/eboss_elg_dr3deep2_EXP.csv'\n",
    "fn2 = '/global/cscratch1/sd/huikong/obiwan_Aug/repos_for_docker/obiwan_code/etc/eboss_elg_dr3deep2_DEV.csv'"
   ]
  },
  {
   "cell_type": "code",
   "execution_count": 46,
   "metadata": {},
   "outputs": [
    {
     "name": "stdout",
     "output_type": "stream",
     "text": [
      "       tractor_id          g          r          z  fwhm_or_rhalf  redshift\n",
      "0     519697-1372  22.114819  21.136913  20.024069       1.028337  0.788818\n",
      "1     519697-1270  22.967899  22.145103  21.384106       0.500000  0.771117\n",
      "2     519697-1125  22.971628  22.445499  21.775711       1.637607  0.776904\n",
      "3     519697-1387  22.428120  21.772739  20.632568       1.037174  0.986220\n",
      "4     519696-1282  22.565952  22.024824  21.285723       0.845983  0.877277\n",
      "5     519696-1375  22.874052  22.534157  21.843233       0.500000  0.131756\n",
      "6     519695-1200  22.925655  21.977459  21.169605       0.500000  1.205241\n",
      "7     519695-1173  21.782009  21.212311  20.413994       0.989609  0.052857\n",
      "8      519695-982  22.057695  21.536018  20.725662       1.708711  0.855131\n",
      "9     519695-1009  22.087196  21.123802  19.987047       1.055671  1.025431\n",
      "10    519695-1152  23.021717  22.727531  22.195967       1.605685  1.142323\n",
      "11    519695-1083  22.601192  22.168739  21.133825       0.971312  0.925829\n",
      "12    519694-1092  23.010674  22.062359  20.955242       0.500000  0.796452\n",
      "13    519697-2375  22.905716  22.380503  21.000040       0.500000  1.049078\n",
      "14    519697-2465  22.074711  21.366919  20.693483       0.500000  0.762152\n",
      "15    519697-1854  22.862589  22.053068  20.567852       0.800838  0.987926\n",
      "16    519696-2025  23.010632  22.193281  21.552267       0.500000  0.729258\n",
      "17    519696-1690  22.719154  22.269575  20.915060       1.286225  0.974063\n",
      "18    519696-2068  22.698078  21.974766  20.783108       0.702675  0.973337\n",
      "19    519696-2036  22.821896  22.079063  20.900101       0.500000  0.867065\n",
      "20    519696-2129  22.680202  22.057320  20.945805       0.500000  0.877813\n",
      "21    519696-2052  22.863214  22.614679  21.817230       0.500000  0.976451\n",
      "22    519696-1842  22.526798  21.641119  20.609520       0.500000  0.733261\n",
      "23    519696-2039  22.873253  22.437988  21.706635       0.814628  0.877319\n",
      "24    519696-2083  22.996529  22.517622  21.320068       0.982570  1.026720\n",
      "25    519695-1587  22.320034  21.382208  20.443527       1.059335  0.719623\n",
      "26    519695-2043  22.494299  22.110264  21.099176       0.500000  1.043376\n",
      "27    519695-2160  22.937201  22.410999  21.293293       0.593639  1.002690\n",
      "28    519695-1830  22.583530  22.305588  21.806986       0.500000  1.053276\n",
      "29    519695-1468  22.568815  22.085531  21.597643       1.602756  1.499424\n",
      "...           ...        ...        ...        ...            ...       ...\n",
      "1034  333399-3533  22.346975  21.237522  19.927977       1.039247  0.828871\n",
      "1035  333399-3022  22.719534  21.844349  20.623325       0.833680  0.841309\n",
      "1036  333399-2953  22.984011  22.427505  21.704626       0.500000  0.748171\n",
      "1037  333399-2914  22.856543  22.580881  22.030716       0.816502  0.906687\n",
      "1038  333399-3379  23.020695  22.543745  21.895105       0.369873  0.904592\n",
      "1039  333399-4327  23.019691  22.290401  21.093884       0.792708  1.120581\n",
      "1040   334839-711  22.897568  21.920778  20.819157       0.704384  0.888594\n",
      "1041   334839-482  23.011034  22.530750  21.459869       0.822029  1.223807\n",
      "1042   334839-127  22.929901  21.903061  20.473480       0.753677  0.923454\n",
      "1043   334839-746  22.546808  22.164068  21.437910       1.486261  0.788966\n",
      "1044  333399-5462  21.940964  20.924444  19.783703       0.758614  0.724045\n",
      "1045   334839-635  22.985710  22.463579  21.733149       0.500000  0.843462\n",
      "1046   334839-408  22.346836  21.621857  20.726124       0.687332  0.807697\n",
      "1047  333399-5654  22.725605  22.132341  21.461723       0.500000  0.737971\n",
      "1048  334840-3310  22.425713  21.420259  20.016335       1.005058  0.839585\n",
      "1049  334839-1589  22.405378  21.662455  20.823429       1.223956  0.800742\n",
      "1050  334839-1628  23.024570  22.225082  21.500118       1.006557  0.737964\n",
      "1051  334839-1054  22.994431  22.481329  21.525246       0.500000  0.965862\n",
      "1052  334839-2594  22.673590  22.192524  21.386805       0.500000  0.887566\n",
      "1053  334839-3973  22.789795  22.134819  21.277355       0.746115  0.808497\n",
      "1054  334839-3006  22.307388  21.558630  20.756741       1.196836  0.793262\n",
      "1055  334839-5119  22.976400  22.342354  21.086283       1.312451  0.997759\n",
      "1056  334839-5073  22.980032  22.315092  20.881880       0.500000  1.277622\n",
      "1057  334839-4902  22.938541  22.039698  20.725483       0.759975  0.810897\n",
      "1058  334839-4296  22.593422  21.876762  20.589832       0.957914  1.017867\n",
      "1059  334839-5679  22.854980  21.840378  20.465317       0.871897  0.906631\n",
      "1060  334839-5629  23.016914  22.344133  21.475582       1.010156  0.866951\n",
      "1061  334839-4856  21.627228  20.868843  20.026253       0.500000  0.807530\n",
      "1062  334839-6303  22.076332  21.576046  20.865717       0.500000  0.812754\n",
      "1063  334839-6183  22.998779  22.493086  21.587730       1.253753  1.137076\n",
      "\n",
      "[1064 rows x 6 columns]\n"
     ]
    }
   ],
   "source": [
    "import pandas\n",
    "df = pandas.read_csv(fn)\n",
    "print(df)"
   ]
  },
  {
   "cell_type": "code",
   "execution_count": 48,
   "metadata": {},
   "outputs": [
    {
     "name": "stdout",
     "output_type": "stream",
     "text": [
      "     tractor_id          g          r          z  fwhm_or_rhalf  redshift\n",
      "0   519697-1323  22.816387  21.775593  20.490623       0.856749  0.767515\n",
      "1   519696-2257  22.402441  22.169109  21.508963       1.490352  0.863516\n",
      "2   520880-3941  22.265865  21.960155  20.389816       2.127113  0.997486\n",
      "3    522059-373  22.455421  22.065363  21.344959       1.439635  0.849804\n",
      "4   519695-2885  21.944378  21.318527  20.671013       4.769077  0.720690\n",
      "5   519699-1824  22.573025  21.676638  20.707722       0.600296  0.799048\n",
      "6   519699-2378  22.615202  21.788233  20.551670       2.805822  0.831243\n",
      "7   519698-2420  21.689501  21.264957  20.417313       1.079081  0.845055\n",
      "8   519697-2207  22.044449  21.143810  20.091244       3.678913  0.832011\n",
      "9   519697-2431  22.917168  21.997967  20.597391       0.706778  0.859505\n",
      "10  519699-3143  22.342892  21.422232  20.052822       1.634152  0.965955\n",
      "11  519699-3518  21.980320  21.628651  20.592667       2.569872  0.474297\n",
      "12  519698-3196  22.455408  21.405983  20.449160       1.928388  0.771788\n",
      "13  519697-2769  23.001942  22.167635  20.805376       1.768055  0.860893\n",
      "14  519697-3816  22.695597  22.044268  21.329411       0.882541  0.780001\n",
      "15  520883-2468  22.750471  21.870146  20.644966       0.581568  0.810006\n",
      "16  520882-3460  22.840731  21.927246  20.911104       0.855211  0.715140\n",
      "17  331776-3570  22.774506  22.253304  21.064354       0.186884  1.415159\n",
      "18  331776-3746  22.768364  22.191116  21.400181       0.286516  0.884653\n",
      "19  331775-4093  22.040752  21.445349  20.302565       0.344929  0.942280\n",
      "20  331776-4758  22.991869  22.169773  21.136555       0.408496  0.822079\n",
      "21   333214-664  21.868420  21.459526  20.533756       0.790103  0.897082\n",
      "22  333216-2259  22.995922  22.255543  20.893341       0.236202  0.731418\n",
      "23  333216-3569  22.699507  22.291260  21.415291       1.534858  1.162905\n",
      "24  333216-3594  22.662161  22.076292  21.301935       0.515430  0.803782\n",
      "25  333214-2858  22.931898  22.237411  21.371601       1.154854  1.061238\n",
      "26  331778-3606  22.676277  21.763180  20.232388       0.995317  0.820958\n",
      "27  331778-3453  22.619040  22.101271  21.257706       0.490198  1.050053\n",
      "28  333217-1594  22.148294  21.473503  20.805962       0.300437  0.743376\n",
      "29  333217-1903  21.886484  20.949440  19.979773       2.908070  0.757695\n",
      "..          ...        ...        ...        ...            ...       ...\n",
      "55   334835-447  22.266581  21.648264  20.583176       1.227142  0.841451\n",
      "56  334836-3257  22.587425  22.003830  20.515253       0.390478  1.300642\n",
      "57  334834-2981  22.712315  22.287945  21.811367       1.204072  0.778292\n",
      "58  334836-4127  22.631266  21.858887  20.399479       0.695474  1.015479\n",
      "59  334835-4381  22.727926  22.490856  21.335838       0.924015  1.204518\n",
      "60  334834-4090  22.452986  22.152855  20.865189       4.131296  0.918754\n",
      "61  333398-1509  21.903992  21.574400  20.857122       1.578682  1.176496\n",
      "62  333398-1060  22.747982  22.107052  21.277935       1.167093  0.731486\n",
      "63  333397-1704  22.407572  22.179008  21.376860       0.731257  1.113418\n",
      "64  333397-2322  22.711485  22.280245  21.458500       1.417297  1.233720\n",
      "65  333397-3082  22.975416  22.026041  20.551748       1.521269  0.900586\n",
      "66  333399-4426  22.981691  22.593781  21.786541       0.436611  1.306580\n",
      "67  333398-5229  22.613394  21.932110  21.001740       0.935872  0.861706\n",
      "68  333397-5171  22.614147  21.672651  20.432386       0.912980  0.744493\n",
      "69  333397-4329  22.820778  22.158537  21.279629       1.251534  0.865108\n",
      "70  333397-5133  22.692030  22.114674  21.263807       0.499007  0.791871\n",
      "71  333397-4888  22.099026  21.406639  20.219719       0.602385  0.851424\n",
      "72  333397-4721  22.988514  22.754589  21.851461       0.711202  0.962715\n",
      "73  333396-4587  22.663357  21.582605  20.083267       1.219200  0.780062\n",
      "74  334839-1083  22.865026  22.307684  21.521252       0.259630  0.831404\n",
      "75  333398-6180  22.634821  21.915331  21.301899       0.248129  0.821605\n",
      "76  334839-2575  22.998631  22.368801  21.289379       0.237711  1.000529\n",
      "77  334838-1866  22.669979  22.435356  21.755756       0.603743  1.531099\n",
      "78  334838-2612  22.643881  21.918591  20.944599       0.684752  0.773439\n",
      "79  334838-2450  22.884361  22.493000  21.795052       1.085728  1.018261\n",
      "80  334838-4126  21.710073  20.891573  19.828100       1.948456  0.777380\n",
      "81  334838-3539  22.942141  22.052227  20.731953       0.387480  1.217752\n",
      "82  334836-4594  21.787596  21.380123  20.555155       0.285494  0.984087\n",
      "83   334839-467  22.184013  21.509617  20.748146       0.457038  0.843754\n",
      "84  334839-4367  22.918415  22.177937  21.098957       0.293995  0.906765\n",
      "\n",
      "[85 rows x 6 columns]\n"
     ]
    }
   ],
   "source": [
    "df2 = pandas.read_csv(fn2)\n",
    "print(df2)"
   ]
  },
  {
   "cell_type": "code",
   "execution_count": 49,
   "metadata": {},
   "outputs": [],
   "source": [
    "fn3= '/global/cscratch1/sd/huikong/obiwan_Aug/repos_for_docker/obiwan_code/etc/eboss_elg_tsspectra_EXP.csv'"
   ]
  },
  {
   "cell_type": "code",
   "execution_count": 50,
   "metadata": {},
   "outputs": [
    {
     "name": "stdout",
     "output_type": "stream",
     "text": [
      "              sdss_id          g          r          z  fwhm_or_rhalf  \\\n",
      "0      9220-57932-786  22.472942  21.804121  21.039890       0.720523   \n",
      "1      9223-57927-341  22.624390  21.915033  21.157459       0.917767   \n",
      "2      9220-57932-824  22.314552  21.691116  20.634329       1.269612   \n",
      "3        9221-57938-6  22.746529  22.299320  21.597607       0.500000   \n",
      "4      9223-57927-304  22.508411  22.075359  21.332052       0.742052   \n",
      "5      9223-57927-344  22.665001  22.235453  21.241177       0.672558   \n",
      "6      9220-57932-781  22.580502  21.912977  21.042917       0.500000   \n",
      "7      9223-57927-306  22.666952  21.850067  20.792561       0.886560   \n",
      "8      9220-57932-785  22.743977  21.971779  20.799137       0.500000   \n",
      "9      9220-57932-827  22.582096  22.101049  21.193792       0.883500   \n",
      "10     9223-57927-347  22.309811  21.618965  20.479433       1.025819   \n",
      "11     9220-57932-823  22.817371  22.235205  21.014790       0.606900   \n",
      "12     9220-57932-821  22.381687  21.626266  20.476322       1.120186   \n",
      "13     9220-57932-822  22.669764  22.224142  21.201994       0.354942   \n",
      "14     9223-57927-352  21.869757  21.358921  20.330610       0.740912   \n",
      "15     9220-57932-831  22.550413  21.958870  21.006466       0.710227   \n",
      "16     9223-57927-350  22.783716  22.143929  21.074245       0.500000   \n",
      "17     9223-57927-305  22.815722  22.017698  21.093403       0.500000   \n",
      "18     9223-57927-343  22.735130  22.208269  21.423645       0.500000   \n",
      "19     9223-57927-348  22.682096  21.927231  20.649818       1.050608   \n",
      "20     9223-57927-356  22.757904  22.256622  21.301525       1.252380   \n",
      "21     9223-57927-309  22.797253  22.285095  21.070406       0.695812   \n",
      "22     9223-57927-308  22.554930  21.968620  20.686609       0.885058   \n",
      "23     9223-57927-351  22.422085  21.709215  20.855196       1.118539   \n",
      "24       9221-57938-2  22.695646  21.996813  21.034100       0.922420   \n",
      "25     9223-57927-315  22.466141  21.921003  21.014847       1.322320   \n",
      "26      9221-57938-14  22.804615  21.981392  20.792665       0.899886   \n",
      "27     9223-57927-359  22.534103  21.961794  20.911657       0.500000   \n",
      "28      9221-57938-13  22.509344  21.788187  20.486549       1.630283   \n",
      "29     9223-57927-360  22.748295  22.182447  20.970024       0.793414   \n",
      "...               ...        ...        ...        ...            ...   \n",
      "77337  9414-58083-998  22.670662  22.062464  21.128174       0.500000   \n",
      "77338  9414-58083-979  22.345026  21.534388  20.322681       0.657864   \n",
      "77339  9414-58083-988  22.280321  21.544821  20.234472       0.500000   \n",
      "77340  9414-58083-986  22.042101  21.510715  20.582523       0.974303   \n",
      "77341  9414-58083-993  22.785873  22.063473  21.085686       0.947592   \n",
      "77342  9414-58083-995  21.994606  21.169144  20.291161       1.215970   \n",
      "77343  9414-58083-968  22.487976  21.820543  21.048758       0.697625   \n",
      "77344  9414-58083-987  22.824057  22.305834  21.300690       0.689325   \n",
      "77345  9414-58083-989  22.775509  22.343948  21.300650       0.678659   \n",
      "77346  9414-58083-965  22.701305  21.932051  21.149429       0.500000   \n",
      "77347  9414-58083-981  22.751785  22.093985  20.997280       0.678770   \n",
      "77348  9414-58083-963  22.191692  21.408884  20.607908       1.564939   \n",
      "77349  9414-58083-984  21.895477  21.121044  20.247202       2.140752   \n",
      "77350  9414-58083-983  22.734701  22.040987  21.295145       0.500000   \n",
      "77351  9414-58083-959  22.713129  21.929691  20.973101       1.165445   \n",
      "77352  9414-58083-960  22.185375  21.485764  20.391329       0.500000   \n",
      "77353  9414-58083-982  22.665592  21.839584  20.675331       0.500000   \n",
      "77354  9414-58083-955  22.273729  21.494614  20.601007       1.320172   \n",
      "77355  9414-58083-958  22.178608  21.732882  20.767824       0.908844   \n",
      "77356  9414-58083-952  22.332893  21.493881  20.685902       0.697031   \n",
      "77357  9414-58083-954  22.638229  21.961758  20.677282       0.500000   \n",
      "77358   9310-57724-22  21.932091  21.298254  20.401741       0.860371   \n",
      "77359    9310-57724-1  22.740612  22.248367  21.156174       0.975212   \n",
      "77360   9310-57724-11  22.590187  21.788609  21.041439       0.919139   \n",
      "77361    9310-57724-4  22.681311  22.053898  21.290749       1.332473   \n",
      "77362   9310-57724-13  22.626728  21.838680  21.039356       0.795286   \n",
      "77363    9310-57724-3  22.568731  22.027275  21.165640       1.590124   \n",
      "77364   9310-57724-42  22.771826  21.943157  21.186218       0.500000   \n",
      "77365   9310-57724-46  22.771223  22.337521  21.216467       0.873226   \n",
      "77366   9310-57724-50  22.737213  22.071552  21.293699       0.500000   \n",
      "\n",
      "       redshift  \n",
      "0      0.731378  \n",
      "1      0.838296  \n",
      "2      0.878742  \n",
      "3      0.281649  \n",
      "4      0.841223  \n",
      "5      0.839300  \n",
      "6      0.788464  \n",
      "7      0.790408  \n",
      "8      0.840517  \n",
      "9      0.874143  \n",
      "10     0.839223  \n",
      "11     0.824174  \n",
      "12     0.787883  \n",
      "13     0.930987  \n",
      "14     0.930874  \n",
      "15     0.824584  \n",
      "16     0.834652  \n",
      "17     0.833920  \n",
      "18     0.789592  \n",
      "19     0.930782  \n",
      "20     1.044179  \n",
      "21     1.044069  \n",
      "22     0.930810  \n",
      "23     0.229792  \n",
      "24     0.875146  \n",
      "25     0.865327  \n",
      "26     0.877015  \n",
      "27     0.878787  \n",
      "28     0.783215  \n",
      "29     0.902337  \n",
      "...         ...  \n",
      "77337  0.977717  \n",
      "77338  0.800551  \n",
      "77339  0.831876  \n",
      "77340  0.735567  \n",
      "77341  0.959419  \n",
      "77342  0.758713  \n",
      "77343  0.880977  \n",
      "77344  1.191713  \n",
      "77345  0.919702  \n",
      "77346  0.697903  \n",
      "77347  1.087468  \n",
      "77348  0.316722  \n",
      "77349  0.640690  \n",
      "77350  0.954244  \n",
      "77351  0.769244  \n",
      "77352  0.746484  \n",
      "77353  0.746001  \n",
      "77354  0.701351  \n",
      "77355  1.066981  \n",
      "77356  0.661800  \n",
      "77357  0.846693  \n",
      "77358  0.883091  \n",
      "77359  0.874894  \n",
      "77360  0.803063  \n",
      "77361  0.817765  \n",
      "77362  0.736527  \n",
      "77363  0.798315  \n",
      "77364  0.568596  \n",
      "77365  1.095721  \n",
      "77366  0.737716  \n",
      "\n",
      "[77367 rows x 6 columns]\n"
     ]
    }
   ],
   "source": [
    "df3 = pandas.read_csv(fn3)\n",
    "print(df3)"
   ]
  },
  {
   "cell_type": "code",
   "execution_count": 67,
   "metadata": {},
   "outputs": [
    {
     "name": "stdout",
     "output_type": "stream",
     "text": [
      "             sdss_id          g          r          z  fwhm_or_rhalf  redshift\n",
      "0       9221-57938-3  21.962345  21.136351  20.198647       0.537789  1.279219\n",
      "1     9223-57927-312  22.206196  21.791307  21.070374       0.485873  1.016277\n",
      "2      9221-57938-10  22.767540  22.098808  21.062010       0.777910  0.930815\n",
      "3     9223-57927-696  22.556919  21.808870  20.954466       0.923958  0.788284\n",
      "4     9223-57927-700  22.783697  22.233940  21.282673       2.122953  1.206559\n",
      "5     9223-57927-697  21.852514  21.189585  20.191393       0.438501  0.711247\n",
      "6     9223-57927-667  21.910164  21.458483  20.707197       0.291582  0.779609\n",
      "7     9223-57927-291  21.857162  21.113811  20.068836       0.420489  0.774072\n",
      "8     9220-57932-877  21.888655  21.124575  20.252380       1.837375  0.675670\n",
      "9     9220-57932-847  22.434376  21.714781  20.707581       0.273800  0.782070\n",
      "10    9220-57932-853  22.089878  21.434736  20.556664       2.681467  1.016514\n",
      "11    9220-57932-198  22.629622  21.873465  20.701080       1.398039  0.881730\n",
      "12    9220-57932-220  22.615551  22.192785  21.139553       0.729776  0.885481\n",
      "13    9220-57932-161  22.749498  22.040785  21.232185       1.254228  0.655110\n",
      "14    9223-57927-337  22.730885  22.103943  21.195576       4.009471  0.921877\n",
      "15    9223-57927-732  22.234833  21.414566  20.303022       1.003690  0.869859\n",
      "16    9223-57927-720  22.478317  21.615904  20.433588       1.079552  0.714479\n",
      "17    9222-57680-545  22.732521  21.949074  21.152565       2.081025  1.050623\n",
      "18    9220-57932-117  22.536755  21.943827  21.021065       0.918310  0.862355\n",
      "19    9220-57932-115  22.530958  21.711555  20.508068       2.200908  0.223550\n",
      "20    9222-57680-455  22.600925  22.144747  20.880211       2.535727  0.880873\n",
      "21    9220-57932-906  22.459187  21.659784  20.366297       0.934209  0.881957\n",
      "22    9223-57927-233  22.387589  21.847269  20.958326       0.781467  0.855297\n",
      "23    9225-58013-511  22.678852  22.124969  20.839546       1.278682  0.901307\n",
      "24    9225-58013-510  22.665903  22.015860  20.887899       0.242070  0.893637\n",
      "25    9222-57680-554  22.551584  21.908113  20.852148       0.669176  0.924504\n",
      "26    9220-57932-930  22.494648  21.957413  21.093683       4.253283  1.016376\n",
      "27    9222-57680-575  22.565134  22.158167  21.328224       1.116343  0.990616\n",
      "28     9220-57932-75  22.543222  21.922787  20.912148       0.975362  0.191643\n",
      "29     9220-57932-86  22.116627  21.253185  19.967903       0.351356  0.799924\n",
      "...              ...        ...        ...        ...            ...       ...\n",
      "7199   9372-58074-23  22.649883  21.833151  20.536797       0.909530  0.793198\n",
      "7200   9372-58074-49  22.512304  22.064930  21.278511       0.208446  0.877200\n",
      "7201  9312-57784-957  22.505173  22.051998  21.311453       1.039575  0.855006\n",
      "7202  9312-57784-994  22.427187  21.738794  20.956799       2.055478  0.650217\n",
      "7203  9312-57784-977  22.116144  21.533146  20.665884       1.757115  0.916639\n",
      "7204   9312-57784-39  22.806122  22.214943  21.334469       3.201062  0.960717\n",
      "7205   9312-57784-40  22.251225  21.697578  20.661657       1.278458  0.716437\n",
      "7206   9312-57784-14  21.973537  21.468134  20.090342       4.792514  1.303268\n",
      "7207   9312-57784-27  22.167356  21.345816  20.539476       1.076458  0.628674\n",
      "7208  9310-57724-942  22.127235  21.482048  19.999550       2.120140  0.905009\n",
      "7209  9372-58074-953  22.789001  21.968494  20.597870       0.193122  0.979727\n",
      "7210  9372-58074-956  22.279774  21.745090  20.801632       1.416533  1.155340\n",
      "7211    9370-58056-2  21.976805  21.366203  20.546587       2.477285  0.760759\n",
      "7212   9370-58056-31  21.955799  21.097149  20.170019       3.070715  0.776085\n",
      "7213  9370-58056-957  22.345860  21.554134  20.584320       0.259421  0.641411\n",
      "7214  9370-58056-996  22.454494  21.770628  20.599602       4.219967  0.904207\n",
      "7215  9370-58056-952  22.350367  21.548813  20.595531       1.538028  0.760452\n",
      "7216  9370-58056-944  22.614023  21.706852  20.497072       0.972725  0.759141\n",
      "7217  9370-58056-969  22.286264  21.437027  20.200851       1.710621  0.363719\n",
      "7218   9414-58083-51  22.486982  21.970055  21.016106       0.862691  0.862009\n",
      "7219   9414-58083-26  22.531769  22.086983  21.227301       1.840766  0.885303\n",
      "7220   9414-58083-19  22.021645  21.380741  20.325272       0.336084  1.035775\n",
      "7221   9414-58083-39  22.488993  21.680834  20.824299       0.376105  0.761402\n",
      "7222   9312-57784-57  22.298676  21.446400  20.389498       1.051440  0.282893\n",
      "7223  9310-57724-970  22.702005  22.180897  21.443960       0.220669  0.983443\n",
      "7224   9310-57724-38  22.599861  22.184082  21.425287       0.283840  0.815142\n",
      "7225    9310-57724-9  21.827108  21.253691  20.291260       3.379725  0.975844\n",
      "7226  9414-58083-997  22.373354  21.573990  20.487617       2.036024  0.807173\n",
      "7227    9310-57724-6  22.701748  22.134186  21.436871       0.840453  0.822966\n",
      "7228   9310-57724-49  22.702755  22.055202  21.225372       0.919843  1.458887\n",
      "\n",
      "[7229 rows x 6 columns]\n"
     ]
    }
   ],
   "source": [
    "fn4= '/global/cscratch1/sd/huikong/obiwan_Aug/repos_for_docker/obiwan_code/etc/eboss_elg_tsspectra_DEV.csv'\n",
    "df4 = pandas.read_csv(fn4)\n",
    "print(df4)"
   ]
  },
  {
   "cell_type": "code",
   "execution_count": 62,
   "metadata": {},
   "outputs": [
    {
     "data": {
      "text/plain": [
       "Text(0.5,0,'redshift')"
      ]
     },
     "execution_count": 62,
     "metadata": {},
     "output_type": "execute_result"
    },
    {
     "data": {
      "image/png": "[encoded data removed]",
      "text/plain": [
       "<matplotlib.figure.Figure at 0x2aaaf0b82828>"
      ]
     },
     "metadata": {},
     "output_type": "display_data"
    }
   ],
   "source": [
    "tt = plt.hist(df3['redshift'],bins=50)\n",
    "plt.title('eboss_elg_tsspectra_EXP')\n",
    "plt.xlabel('redshift')"
   ]
  },
  {
   "cell_type": "code",
   "execution_count": 68,
   "metadata": {},
   "outputs": [
    {
     "data": {
      "text/plain": [
       "Text(0.5,0,'redshift')"
      ]
     },
     "execution_count": 68,
     "metadata": {},
     "output_type": "execute_result"
    },
    {
     "data": {
      "image/png": "[encoded data removed]",
      "text/plain": [
       "<matplotlib.figure.Figure at 0x2aaaf10405f8>"
      ]
     },
     "metadata": {},
     "output_type": "display_data"
    }
   ],
   "source": [
    "tt = plt.hist(df4['redshift'],bins=50)\n",
    "plt.title('eboss_elg_tsspectra_DEV')\n",
    "plt.xlabel('redshift')"
   ]
  },
  {
   "cell_type": "code",
   "execution_count": 65,
   "metadata": {},
   "outputs": [
    {
     "data": {
      "text/plain": [
       "Text(0.5,0,'redshift')"
      ]
     },
     "execution_count": 65,
     "metadata": {},
     "output_type": "execute_result"
    },
    {
     "data": {
      "image/png": "[encoded data removed]",
      "text/plain": [
       "<matplotlib.figure.Figure at 0x2aaaf0e38160>"
      ]
     },
     "metadata": {},
     "output_type": "display_data"
    }
   ],
   "source": [
    "tt = plt.hist(df2['redshift'],bins=50)\n",
    "plt.title('eboss_elg_dr3deep2_DEV')\n",
    "plt.xlabel('redshift')"
   ]
  },
  {
   "cell_type": "code",
   "execution_count": 66,
   "metadata": {},
   "outputs": [
    {
     "data": {
      "text/plain": [
       "Text(0.5,0,'redshift')"
      ]
     },
     "execution_count": 66,
     "metadata": {},
     "output_type": "execute_result"
    },
    {
     "data": {
      "image/png": "[encoded data removed]",
      "text/plain": [
       "<matplotlib.figure.Figure at 0x2aaaf0f11eb8>"
      ]
     },
     "metadata": {},
     "output_type": "display_data"
    }
   ],
   "source": [
    "tt = plt.hist(df['redshift'],bins=50)\n",
    "plt.title('eboss_elg_dr3deep2_EXP')\n",
    "plt.xlabel('redshift')"
   ]
  },
  {
   "cell_type": "code",
   "execution_count": 81,
   "metadata": {},
   "outputs": [
    {
     "data": {
      "image/png": "[encoded data removed]",
      "text/plain": [
       "<matplotlib.figure.Figure at 0x2aaaf1484a58>"
      ]
     },
     "metadata": {},
     "output_type": "display_data"
    }
   ],
   "source": [
    "tt = plt.hist(df3['g'],bins=50)"
   ]
  },
  {
   "cell_type": "code",
   "execution_count": 83,
   "metadata": {},
   "outputs": [],
   "source": [
    "def select_ELG_sim(sim_dat, region = 'sgc'):\n",
    "    g = sim_dat['g']\n",
    "    r_mag = sim_dat['r']\n",
    "    z_mag = sim_dat['z']\n",
    "    gr = g - r_mag\n",
    "    rz = r_mag - z_mag\n",
    "    color_sgc = (g>21.825)&(g<22.825)&(-0.068*rz+0.457<gr)&(gr< 0.112*rz+0.773) &(0.218*gr+0.571<rz)&(rz<-0.555*gr+1.901)\n",
    "    color_ngc = (g>21.825)&(g<22.9)  &(-0.068*rz+0.457<gr)&(gr< 0.112*rz+0.773) &(0.637*gr+0.399<rz)&(rz<-0.555*gr+1.901)\n",
    "    if region == 'sgc':\n",
    "         return color_sgc\n",
    "    else:\n",
    "         return color_ngc"
   ]
  },
  {
   "cell_type": "code",
   "execution_count": 84,
   "metadata": {},
   "outputs": [],
   "source": [
    "dat = fits.getdata('/global/cscratch1/sd/huikong/obiwan_Aug/HPSS/randoms/elg_dr5/randoms_rank_234.fits')\n",
    "sel = select_ELG_sim(dat,region='ngc')"
   ]
  },
  {
   "cell_type": "code",
   "execution_count": 85,
   "metadata": {},
   "outputs": [],
   "source": [
    "uuu = dat[sel]"
   ]
  },
  {
   "cell_type": "code",
   "execution_count": 102,
   "metadata": {},
   "outputs": [
    {
     "data": {
      "text/plain": [
       "Text(0.5,0,'redshift')"
      ]
     },
     "execution_count": 102,
     "metadata": {},
     "output_type": "execute_result"
    },
    {
     "data": {
      "image/png": "[encoded data removed]",
      "text/plain": [
       "<matplotlib.figure.Figure at 0x2aaaf1daf7f0>"
      ]
     },
     "metadata": {},
     "output_type": "display_data"
    }
   ],
   "source": [
    "s=plt.hist(uuu['redshift'],bins = 80)\n",
    "plt.title('ngc sim after elg color cut')\n",
    "plt.xlabel('redshift')"
   ]
  },
  {
   "cell_type": "code",
   "execution_count": 101,
   "metadata": {},
   "outputs": [
    {
     "data": {
      "text/plain": [
       "(31288, 1000000, 968712)"
      ]
     },
     "execution_count": 101,
     "metadata": {},
     "output_type": "execute_result"
    }
   ],
   "source": [
    "len(uuu),len(dat),len(dat) - len(uuu)"
   ]
  },
  {
   "cell_type": "code",
   "execution_count": 90,
   "metadata": {},
   "outputs": [
    {
     "data": {
      "image/png": "[encoded data removed]",
      "text/plain": [
       "<matplotlib.figure.Figure at 0x2aaaf1281a20>"
      ]
     },
     "metadata": {},
     "output_type": "display_data"
    }
   ],
   "source": [
    "s=plt.hist(dat['redshift'],bins = 30)"
   ]
  },
  {
   "cell_type": "code",
   "execution_count": 97,
   "metadata": {},
   "outputs": [],
   "source": [
    "sssl = select_ELG_sim(df3)"
   ]
  },
  {
   "cell_type": "code",
   "execution_count": 98,
   "metadata": {},
   "outputs": [
    {
     "data": {
      "image/png": "[encoded data removed]",
      "text/plain": [
       "<matplotlib.figure.Figure at 0x2aaaf1a21588>"
      ]
     },
     "metadata": {},
     "output_type": "display_data"
    }
   ],
   "source": [
    "sss = df3[sssl]\n",
    "ggg = plt.hist(sss['redshift'],bins = 50)"
   ]
  },
  {
   "cell_type": "code",
   "execution_count": 96,
   "metadata": {},
   "outputs": [
    {
     "data": {
      "image/png": "[encoded data removed]",
      "text/plain": [
       "<matplotlib.figure.Figure at 0x2aaaf1a900b8>"
      ]
     },
     "metadata": {},
     "output_type": "display_data"
    }
   ],
   "source": [
    "ggg = plt.hist(df3['redshift'],bins = 50)"
   ]
  },
  {
   "cell_type": "code",
   "execution_count": 99,
   "metadata": {},
   "outputs": [
    {
     "data": {
      "text/plain": [
       "0        True\n",
       "1        True\n",
       "2        True\n",
       "3        True\n",
       "4        True\n",
       "5        True\n",
       "6        True\n",
       "7        True\n",
       "8        True\n",
       "9        True\n",
       "10       True\n",
       "11       True\n",
       "12       True\n",
       "13       True\n",
       "14       True\n",
       "15       True\n",
       "16       True\n",
       "17       True\n",
       "18       True\n",
       "19       True\n",
       "20       True\n",
       "21       True\n",
       "22       True\n",
       "23       True\n",
       "24       True\n",
       "25       True\n",
       "26       True\n",
       "27       True\n",
       "28       True\n",
       "29       True\n",
       "         ... \n",
       "77337    True\n",
       "77338    True\n",
       "77339    True\n",
       "77340    True\n",
       "77341    True\n",
       "77342    True\n",
       "77343    True\n",
       "77344    True\n",
       "77345    True\n",
       "77346    True\n",
       "77347    True\n",
       "77348    True\n",
       "77349    True\n",
       "77350    True\n",
       "77351    True\n",
       "77352    True\n",
       "77353    True\n",
       "77354    True\n",
       "77355    True\n",
       "77356    True\n",
       "77357    True\n",
       "77358    True\n",
       "77359    True\n",
       "77360    True\n",
       "77361    True\n",
       "77362    True\n",
       "77363    True\n",
       "77364    True\n",
       "77365    True\n",
       "77366    True\n",
       "Length: 77367, dtype: bool"
      ]
     },
     "execution_count": 99,
     "metadata": {},
     "output_type": "execute_result"
    }
   ],
   "source": [
    "sssl"
   ]
  },
  {
   "cell_type": "code",
   "execution_count": 108,
   "metadata": {},
   "outputs": [],
   "source": [
    "sssl = select_ELG_sim(df4)"
   ]
  },
  {
   "cell_type": "code",
   "execution_count": 109,
   "metadata": {},
   "outputs": [
    {
     "data": {
      "text/plain": [
       "0       True\n",
       "1       True\n",
       "2       True\n",
       "3       True\n",
       "4       True\n",
       "5       True\n",
       "6       True\n",
       "7       True\n",
       "8       True\n",
       "9       True\n",
       "10      True\n",
       "11      True\n",
       "12      True\n",
       "13      True\n",
       "14      True\n",
       "15      True\n",
       "16      True\n",
       "17      True\n",
       "18      True\n",
       "19      True\n",
       "20      True\n",
       "21      True\n",
       "22      True\n",
       "23      True\n",
       "24      True\n",
       "25      True\n",
       "26      True\n",
       "27      True\n",
       "28      True\n",
       "29      True\n",
       "        ... \n",
       "7199    True\n",
       "7200    True\n",
       "7201    True\n",
       "7202    True\n",
       "7203    True\n",
       "7204    True\n",
       "7205    True\n",
       "7206    True\n",
       "7207    True\n",
       "7208    True\n",
       "7209    True\n",
       "7210    True\n",
       "7211    True\n",
       "7212    True\n",
       "7213    True\n",
       "7214    True\n",
       "7215    True\n",
       "7216    True\n",
       "7217    True\n",
       "7218    True\n",
       "7219    True\n",
       "7220    True\n",
       "7221    True\n",
       "7222    True\n",
       "7223    True\n",
       "7224    True\n",
       "7225    True\n",
       "7226    True\n",
       "7227    True\n",
       "7228    True\n",
       "Length: 7229, dtype: bool"
      ]
     },
     "execution_count": 109,
     "metadata": {},
     "output_type": "execute_result"
    }
   ],
   "source": [
    "sssl"
   ]
  },
  {
   "cell_type": "code",
   "execution_count": 17,
   "metadata": {},
   "outputs": [],
   "source": [
    "ss = '/global/cscratch1/sd/huikong/obiwan_Aug/HPSS/tractor/000/0001m030/rs0/tractor-0001m030.fits'"
   ]
  },
  {
   "cell_type": "code",
   "execution_count": 19,
   "metadata": {},
   "outputs": [
    {
     "data": {
      "text/plain": [
       "ColDefs(\n",
       "    name = 'release'; format = 'I'\n",
       "    name = 'brickid'; format = 'J'\n",
       "    name = 'brickname'; format = '8A'\n",
       "    name = 'objid'; format = 'J'\n",
       "    name = 'brick_primary'; format = 'L'\n",
       "    name = 'type'; format = '4A'\n",
       "    name = 'ra'; format = 'D'; unit = 'deg'\n",
       "    name = 'dec'; format = 'D'; unit = 'deg'\n",
       "    name = 'ra_ivar'; format = 'E'; unit = '1/deg^2'\n",
       "    name = 'dec_ivar'; format = 'E'; unit = '1/deg^2'\n",
       "    name = 'bx'; format = 'E'\n",
       "    name = 'by'; format = 'E'\n",
       "    name = 'dchisq'; format = '5E'\n",
       "    name = 'ebv'; format = 'E'; unit = 'mag'\n",
       "    name = 'mjd_min'; format = 'D'\n",
       "    name = 'mjd_max'; format = 'D'\n",
       "    name = 'flux_u'; format = 'E'; unit = 'nanomaggy'\n",
       "    name = 'flux_g'; format = 'E'; unit = 'nanomaggy'\n",
       "    name = 'flux_r'; format = 'E'; unit = 'nanomaggy'\n",
       "    name = 'flux_i'; format = 'E'; unit = 'nanomaggy'\n",
       "    name = 'flux_z'; format = 'E'; unit = 'nanomaggy'\n",
       "    name = 'flux_Y'; format = 'E'; unit = 'nanomaggy'\n",
       "    name = 'flux_ivar_u'; format = 'E'; unit = '1/nanomaggy^2'\n",
       "    name = 'flux_ivar_g'; format = 'E'; unit = '1/nanomaggy^2'\n",
       "    name = 'flux_ivar_r'; format = 'E'; unit = '1/nanomaggy^2'\n",
       "    name = 'flux_ivar_i'; format = 'E'; unit = '1/nanomaggy^2'\n",
       "    name = 'flux_ivar_z'; format = 'E'; unit = '1/nanomaggy^2'\n",
       "    name = 'flux_ivar_Y'; format = 'E'; unit = '1/nanomaggy^2'\n",
       "    name = 'apflux_u'; format = '8E'; unit = 'nanomaggy'\n",
       "    name = 'apflux_g'; format = '8E'; unit = 'nanomaggy'\n",
       "    name = 'apflux_r'; format = '8E'; unit = 'nanomaggy'\n",
       "    name = 'apflux_i'; format = '8E'; unit = 'nanomaggy'\n",
       "    name = 'apflux_z'; format = '8E'; unit = 'nanomaggy'\n",
       "    name = 'apflux_Y'; format = '8E'; unit = 'nanomaggy'\n",
       "    name = 'apflux_resid_u'; format = '8E'; unit = 'nanomaggy'\n",
       "    name = 'apflux_resid_g'; format = '8E'; unit = 'nanomaggy'\n",
       "    name = 'apflux_resid_r'; format = '8E'; unit = 'nanomaggy'\n",
       "    name = 'apflux_resid_i'; format = '8E'; unit = 'nanomaggy'\n",
       "    name = 'apflux_resid_z'; format = '8E'; unit = 'nanomaggy'\n",
       "    name = 'apflux_resid_Y'; format = '8E'; unit = 'nanomaggy'\n",
       "    name = 'apflux_ivar_u'; format = '8E'; unit = '1/nanomaggy^2'\n",
       "    name = 'apflux_ivar_g'; format = '8E'; unit = '1/nanomaggy^2'\n",
       "    name = 'apflux_ivar_r'; format = '8E'; unit = '1/nanomaggy^2'\n",
       "    name = 'apflux_ivar_i'; format = '8E'; unit = '1/nanomaggy^2'\n",
       "    name = 'apflux_ivar_z'; format = '8E'; unit = '1/nanomaggy^2'\n",
       "    name = 'apflux_ivar_Y'; format = '8E'; unit = '1/nanomaggy^2'\n",
       "    name = 'mw_transmission_u'; format = 'E'\n",
       "    name = 'mw_transmission_g'; format = 'E'\n",
       "    name = 'mw_transmission_r'; format = 'E'\n",
       "    name = 'mw_transmission_i'; format = 'E'\n",
       "    name = 'mw_transmission_z'; format = 'E'\n",
       "    name = 'mw_transmission_Y'; format = 'E'\n",
       "    name = 'nobs_u'; format = 'I'\n",
       "    name = 'nobs_g'; format = 'I'\n",
       "    name = 'nobs_r'; format = 'I'\n",
       "    name = 'nobs_i'; format = 'I'\n",
       "    name = 'nobs_z'; format = 'I'\n",
       "    name = 'nobs_Y'; format = 'I'\n",
       "    name = 'rchisq_u'; format = 'E'\n",
       "    name = 'rchisq_g'; format = 'E'\n",
       "    name = 'rchisq_r'; format = 'E'\n",
       "    name = 'rchisq_i'; format = 'E'\n",
       "    name = 'rchisq_z'; format = 'E'\n",
       "    name = 'rchisq_Y'; format = 'E'\n",
       "    name = 'fracflux_u'; format = 'E'\n",
       "    name = 'fracflux_g'; format = 'E'\n",
       "    name = 'fracflux_r'; format = 'E'\n",
       "    name = 'fracflux_i'; format = 'E'\n",
       "    name = 'fracflux_z'; format = 'E'\n",
       "    name = 'fracflux_Y'; format = 'E'\n",
       "    name = 'fracmasked_u'; format = 'E'\n",
       "    name = 'fracmasked_g'; format = 'E'\n",
       "    name = 'fracmasked_r'; format = 'E'\n",
       "    name = 'fracmasked_i'; format = 'E'\n",
       "    name = 'fracmasked_z'; format = 'E'\n",
       "    name = 'fracmasked_Y'; format = 'E'\n",
       "    name = 'fracin_u'; format = 'E'\n",
       "    name = 'fracin_g'; format = 'E'\n",
       "    name = 'fracin_r'; format = 'E'\n",
       "    name = 'fracin_i'; format = 'E'\n",
       "    name = 'fracin_z'; format = 'E'\n",
       "    name = 'fracin_Y'; format = 'E'\n",
       "    name = 'anymask_u'; format = 'I'\n",
       "    name = 'anymask_g'; format = 'I'\n",
       "    name = 'anymask_r'; format = 'I'\n",
       "    name = 'anymask_i'; format = 'I'\n",
       "    name = 'anymask_z'; format = 'I'\n",
       "    name = 'anymask_Y'; format = 'I'\n",
       "    name = 'allmask_u'; format = 'I'\n",
       "    name = 'allmask_g'; format = 'I'\n",
       "    name = 'allmask_r'; format = 'I'\n",
       "    name = 'allmask_i'; format = 'I'\n",
       "    name = 'allmask_z'; format = 'I'\n",
       "    name = 'allmask_Y'; format = 'I'\n",
       "    name = 'psfsize_u'; format = 'E'; unit = 'arcsec'\n",
       "    name = 'psfsize_g'; format = 'E'; unit = 'arcsec'\n",
       "    name = 'psfsize_r'; format = 'E'; unit = 'arcsec'\n",
       "    name = 'psfsize_i'; format = 'E'; unit = 'arcsec'\n",
       "    name = 'psfsize_z'; format = 'E'; unit = 'arcsec'\n",
       "    name = 'psfsize_Y'; format = 'E'; unit = 'arcsec'\n",
       "    name = 'psfdepth_u'; format = 'E'; unit = '1/nanomaggy^2'\n",
       "    name = 'psfdepth_g'; format = 'E'; unit = '1/nanomaggy^2'\n",
       "    name = 'psfdepth_r'; format = 'E'; unit = '1/nanomaggy^2'\n",
       "    name = 'psfdepth_i'; format = 'E'; unit = '1/nanomaggy^2'\n",
       "    name = 'psfdepth_z'; format = 'E'; unit = '1/nanomaggy^2'\n",
       "    name = 'psfdepth_Y'; format = 'E'; unit = '1/nanomaggy^2'\n",
       "    name = 'galdepth_u'; format = 'E'; unit = '1/nanomaggy^2'\n",
       "    name = 'galdepth_g'; format = 'E'; unit = '1/nanomaggy^2'\n",
       "    name = 'galdepth_r'; format = 'E'; unit = '1/nanomaggy^2'\n",
       "    name = 'galdepth_i'; format = 'E'; unit = '1/nanomaggy^2'\n",
       "    name = 'galdepth_z'; format = 'E'; unit = '1/nanomaggy^2'\n",
       "    name = 'galdepth_Y'; format = 'E'; unit = '1/nanomaggy^2'\n",
       "    name = 'fracdev'; format = 'E'\n",
       "    name = 'fracdev_ivar'; format = 'E'\n",
       "    name = 'shapeexp_r'; format = 'E'; unit = 'arcsec'\n",
       "    name = 'shapeexp_r_ivar'; format = 'E'; unit = '1/arcsec^2'\n",
       "    name = 'shapeexp_e1'; format = 'E'\n",
       "    name = 'shapeexp_e1_ivar'; format = 'E'\n",
       "    name = 'shapeexp_e2'; format = 'E'\n",
       "    name = 'shapeexp_e2_ivar'; format = 'E'\n",
       "    name = 'shapedev_r'; format = 'E'; unit = 'arcsec'\n",
       "    name = 'shapedev_r_ivar'; format = 'E'; unit = '1/arcsec^2'\n",
       "    name = 'shapedev_e1'; format = 'E'\n",
       "    name = 'shapedev_e1_ivar'; format = 'E'\n",
       "    name = 'shapedev_e2'; format = 'E'\n",
       "    name = 'shapedev_e2_ivar'; format = 'E'\n",
       ")"
      ]
     },
     "execution_count": 19,
     "metadata": {},
     "output_type": "execute_result"
    }
   ],
   "source": [
    "dat = fits.getdata(ss)\n",
    "dat.columns"
   ]
  },
  {
   "cell_type": "code",
   "execution_count": 21,
   "metadata": {},
   "outputs": [
    {
     "data": {
      "text/plain": [
       "ColDefs(\n",
       "    name = 'id'; format = 'K'\n",
       "    name = 'ra'; format = 'D'\n",
       "    name = 'dec'; format = 'D'\n",
       "    name = 'x'; format = 'D'\n",
       "    name = 'y'; format = 'D'\n",
       "    name = 'gflux'; format = 'D'\n",
       "    name = 'mw_transmission_g'; format = 'E'\n",
       "    name = 'rflux'; format = 'D'\n",
       "    name = 'mw_transmission_r'; format = 'E'\n",
       "    name = 'zflux'; format = 'D'\n",
       "    name = 'mw_transmission_z'; format = 'E'\n",
       "    name = 'n'; format = 'D'\n",
       "    name = 'rhalf'; format = 'D'\n",
       "    name = 'e1'; format = 'D'\n",
       "    name = 'e2'; format = 'D'\n",
       ")"
      ]
     },
     "execution_count": 21,
     "metadata": {},
     "output_type": "execute_result"
    }
   ],
   "source": [
    "ss = '/global/cscratch1/sd/huikong/obiwan_Aug/HPSS/obiwan/000/0001m030/rs0/simcat-elg-0001m030.fits'\n",
    "dat = fits.getdata(ss)\n",
    "dat.columns"
   ]
  },
  {
   "cell_type": "code",
   "execution_count": 22,
   "metadata": {},
   "outputs": [],
   "source": [
    "fn = '/global/cscratch1/sd/huikong/obiwan_Aug/repos_for_docker/obiwan_out//subset/elg_dr3_match.fits'"
   ]
  },
  {
   "cell_type": "code",
   "execution_count": 24,
   "metadata": {},
   "outputs": [
    {
     "data": {
      "text/plain": [
       "ColDefs(\n",
       "    name = 'ra'; format = 'D'\n",
       "    name = 'dec'; format = 'D'\n",
       "    name = 'flux_g'; format = 'E'\n",
       "    name = 'flux_r'; format = 'E'\n",
       "    name = 'flux_z'; format = 'E'\n",
       "    name = 'mw_transmission_g'; format = 'E'\n",
       "    name = 'mw_transmission_r'; format = 'E'\n",
       "    name = 'mw_transmission_z'; format = 'E'\n",
       "    name = 'fracdev'; format = 'E'\n",
       "    name = 'shapeexp_e1'; format = 'E'\n",
       "    name = 'shapeexp_e2'; format = 'E'\n",
       "    name = 'shapedev_e1'; format = 'E'\n",
       "    name = 'shapedev_e2'; format = 'E'\n",
       "    name = 'sim_id'; format = 'K'\n",
       "    name = 'sim_gflux'; format = 'D'\n",
       "    name = 'sim_rflux'; format = 'D'\n",
       "    name = 'sim_zflux'; format = 'D'\n",
       "    name = 'sim_mw_transmission_g'; format = 'E'\n",
       "    name = 'sim_mw_transmission_r'; format = 'E'\n",
       "    name = 'sim_mw_transmission_z'; format = 'E'\n",
       "    name = 'sim_rhalf'; format = 'D'\n",
       "    name = 'sim_n'; format = 'D'\n",
       "    name = 'sim_e1'; format = 'D'\n",
       "    name = 'sim_e2'; format = 'D'\n",
       ")"
      ]
     },
     "execution_count": 24,
     "metadata": {},
     "output_type": "execute_result"
    }
   ],
   "source": [
    "dat = fits.getdata(fn)\n",
    "dat.columns"
   ]
  },
  {
   "cell_type": "code",
   "execution_count": 27,
   "metadata": {},
   "outputs": [
    {
     "name": "stdout",
     "output_type": "stream",
     "text": [
      "Populating the interactive namespace from numpy and matplotlib\n"
     ]
    },
    {
     "data": {
      "text/plain": [
       "(array([   508.,  20557.,  70039.,  58421.,  35078.,  21322.,  13213.,\n",
       "          6359.,   1231.,    285.]),\n",
       " array([ 0.39146962,  0.56088484,  0.73030005,  0.89971527,  1.06913048,\n",
       "         1.23854569,  1.40796091,  1.57737612,  1.74679134,  1.91620655,\n",
       "         2.08562177]),\n",
       " <a list of 10 Patch objects>)"
      ]
     },
     "execution_count": 27,
     "metadata": {},
     "output_type": "execute_result"
    },
    {
     "data": {
      "image/png": "[encoded data removed]",
      "text/plain": [
       "<matplotlib.figure.Figure at 0x2aaae96c3d30>"
      ]
     },
     "metadata": {},
     "output_type": "display_data"
    }
   ],
   "source": [
    "%pylab inline\n",
    "import matplotlib.pyplot as plt\n",
    "plt.hist(dat['flux_g'])\n",
    "plt.hist(dat['sim_gflux'],alpha=0.5)"
   ]
  },
  {
   "cell_type": "code",
   "execution_count": 29,
   "metadata": {},
   "outputs": [],
   "source": [
    "g     = 22.5 - 2.5 * np.log10(dat['flux_g'] / dat['mw_transmission_g'])\n",
    "r_mag = 22.5 - 2.5 * np.log10(dat['flux_r'] / dat['mw_transmission_r'])\n",
    "z_mag = 22.5 - 2.5 * np.log10(dat['flux_z'] / dat['mw_transmission_z'])"
   ]
  },
  {
   "cell_type": "code",
   "execution_count": 30,
   "metadata": {},
   "outputs": [],
   "source": [
    "g_sim = 22.5 - 2.5 * np.log10(dat['sim_gflux'] / dat['sim_mw_transmission_g'])\n",
    "r_sim = 22.5 - 2.5 * np.log10(dat['sim_rflux'] / dat['sim_mw_transmission_r'])\n",
    "z_sim = 22.5 - 2.5 * np.log10(dat['sim_zflux'] / dat['sim_mw_transmission_z'])"
   ]
  },
  {
   "cell_type": "code",
   "execution_count": 32,
   "metadata": {},
   "outputs": [
    {
     "data": {
      "text/plain": [
       "(array([  1387.,   6802.,  16225.,  23736.,  31444.,  41301.,  49871.,\n",
       "         38931.,  14927.,   2389.]),\n",
       " array([ 21.63539505,  21.77431259,  21.91323013,  22.05214767,\n",
       "         22.19106522,  22.32998276,  22.4689003 ,  22.60781784,\n",
       "         22.74673538,  22.88565292,  23.02457047]),\n",
       " <a list of 10 Patch objects>)"
      ]
     },
     "execution_count": 32,
     "metadata": {},
     "output_type": "execute_result"
    },
    {
     "data": {
      "image/png": "[encoded data removed]",
      "text/plain": [
       "<matplotlib.figure.Figure at 0x2aaaee6c3978>"
      ]
     },
     "metadata": {},
     "output_type": "display_data"
    }
   ],
   "source": [
    "plt.hist(g)\n",
    "plt.hist(g_sim,alpha=0.5)"
   ]
  },
  {
   "cell_type": "code",
   "execution_count": 1,
   "metadata": {},
   "outputs": [
    {
     "name": "stdout",
     "output_type": "stream",
     "text": [
      "Populating the interactive namespace from numpy and matplotlib\n"
     ]
    }
   ],
   "source": [
    "%pylab inline\n",
    "import matplotlib.pyplot as plt\n",
    "import astropy.io.fits as fits\n",
    "import numpy as np\n",
    "chunk='chunk23'\n",
    "topdir =  '/global/cscratch1/sd/huikong/obiwan_Aug/repos_for_docker/obiwan_out/subset/'\n",
    "fn =  'eBOSS_ELG_full_ALL_v4.dat_cutted_kaylan_really_masked_chunk23.fits'\n",
    "fn_obiwan = 'ngc_tractor_sim_match_really_masked_chunk23.fits'\n",
    "fn_sim = 'ngc_sim_really_masked_chunk23.fits'\n",
    "DAT = fits.getdata(topdir+fn)\n",
    "obiwan = fits.getdata(topdir+fn_obiwan)\n",
    "sim = fits.getdata(topdir+fn_sim)"
   ]
  },
  {
   "cell_type": "code",
   "execution_count": 2,
   "metadata": {},
   "outputs": [],
   "source": [
    "fn_sim_m = 'sim_200per_0125_really_masked_chunk22.fits'\n",
    "sim22 = fits.getdata(topdir+fn_sim_m)"
   ]
  },
  {
   "cell_type": "code",
   "execution_count": 6,
   "metadata": {},
   "outputs": [],
   "source": [
    "dat = sim\n",
    "g     = 22.5 - 2.5 * np.log10(dat['gflux'] / dat['mw_transmission_g'])\n",
    "r_mag = 22.5 - 2.5 * np.log10(dat['rflux'] / dat['mw_transmission_r'])\n",
    "z_mag = 22.5 - 2.5 * np.log10(dat['zflux'] / dat['mw_transmission_z'])"
   ]
  },
  {
   "cell_type": "code",
   "execution_count": 7,
   "metadata": {},
   "outputs": [],
   "source": [
    "dat = sim22\n",
    "g22     = dat['g']\n",
    "r_mag22 = dat['r']\n",
    "z_mag22 = dat['z']"
   ]
  },
  {
   "cell_type": "code",
   "execution_count": 18,
   "metadata": {},
   "outputs": [
    {
     "data": {
      "text/plain": [
       "Text(0.5,1,'g')"
      ]
     },
     "execution_count": 18,
     "metadata": {},
     "output_type": "execute_result"
    },
    {
     "data": {
      "image/png": "[encoded data removed]",
      "text/plain": [
       "<matplotlib.figure.Figure at 0x2aaaf0b0f240>"
      ]
     },
     "metadata": {},
     "output_type": "display_data"
    }
   ],
   "source": [
    "h,bins,patches = plt.hist(g22,bins=50,normed = True)\n",
    "h = plt.hist(g,bins=bins,alpha=0.5,normed = True)\n",
    "plt.title('g')"
   ]
  },
  {
   "cell_type": "code",
   "execution_count": 19,
   "metadata": {},
   "outputs": [
    {
     "data": {
      "text/plain": [
       "Text(0.5,1,'r')"
      ]
     },
     "execution_count": 19,
     "metadata": {},
     "output_type": "execute_result"
    },
    {
     "data": {
      "image/png": "[encoded data removed]",
      "text/plain": [
       "<matplotlib.figure.Figure at 0x2aaaf0bf2240>"
      ]
     },
     "metadata": {},
     "output_type": "display_data"
    }
   ],
   "source": [
    "h,bins,patches = plt.hist(r_mag22,bins=50,normed = True)\n",
    "h = plt.hist(r_mag,bins=bins,alpha=0.5,normed = True)\n",
    "plt.title('r')"
   ]
  },
  {
   "cell_type": "code",
   "execution_count": 20,
   "metadata": {},
   "outputs": [
    {
     "data": {
      "text/plain": [
       "Text(0.5,1,'z')"
      ]
     },
     "execution_count": 20,
     "metadata": {},
     "output_type": "execute_result"
    },
    {
     "data": {
      "image/png": "[encoded data removed]",
      "text/plain": [
       "<matplotlib.figure.Figure at 0x2aaaf0aa1b70>"
      ]
     },
     "metadata": {},
     "output_type": "display_data"
    }
   ],
   "source": [
    "h,bins,patches = plt.hist(z_mag22,bins=50,normed = True)\n",
    "h = plt.hist(z_mag,bins=bins,alpha=0.5,normed = True)\n",
    "plt.title('z')"
   ]
  },
  {
   "cell_type": "code",
   "execution_count": 16,
   "metadata": {},
   "outputs": [
    {
     "data": {
      "text/plain": [
       "0.11096273381433197"
      ]
     },
     "execution_count": 16,
     "metadata": {},
     "output_type": "execute_result"
    }
   ],
   "source": [
    "len(sim[sim['n']==4])/len(sim[sim['n']==1])"
   ]
  },
  {
   "cell_type": "code",
   "execution_count": 17,
   "metadata": {},
   "outputs": [
    {
     "data": {
      "text/plain": [
       "0.11130195303704558"
      ]
     },
     "execution_count": 17,
     "metadata": {},
     "output_type": "execute_result"
    }
   ],
   "source": [
    "len(sim22[sim22['n']==4])/len(sim22[sim22['n']==1])"
   ]
  },
  {
   "cell_type": "code",
   "execution_count": null,
   "metadata": {},
   "outputs": [],
   "source": []
  },
  {
   "cell_type": "code",
   "execution_count": null,
   "metadata": {},
   "outputs": [],
   "source": []
  },
  {
   "cell_type": "code",
   "execution_count": null,
   "metadata": {},
   "outputs": [],
   "source": []
  },
  {
   "cell_type": "code",
   "execution_count": null,
   "metadata": {},
   "outputs": [],
   "source": []
  },
  {
   "cell_type": "code",
   "execution_count": null,
   "metadata": {},
   "outputs": [],
   "source": []
  },
  {
   "cell_type": "code",
   "execution_count": 186,
   "metadata": {},
   "outputs": [],
   "source": [
    "#select an NGC brick:\n",
    "brick_ngc = '1326p275'\n",
    "brick_sgc = '0006p045'\n",
    "#tractor dr3 data:\n",
    "tractor_dir = '/global/project/projectdirs/cosmo/data/legacysurvey/dr3/tractor/'\n",
    "tractor_ngc = fits.getdata(tractor_dir+brick_ngc[:3]+'/tractor-'+brick_ngc+'.fits')\n",
    "tractor_sgc = fits.getdata(tractor_dir+brick_sgc[:3]+'/tractor-'+brick_sgc+'.fits')\n",
    "\n",
    "tractor5_dir = '/global/project/projectdirs/cosmo/data/legacysurvey/dr5/tractor/'\n",
    "tractor5_ngc = fits.getdata(tractor5_dir+brick_ngc[:3]+'/tractor-'+brick_ngc+'.fits')"
   ]
  },
  {
   "cell_type": "code",
   "execution_count": 173,
   "metadata": {},
   "outputs": [],
   "source": [
    "#obiwan_output:\n",
    "import os\n",
    "obiwan_ngc = fits.getdata(os.path.join('/global/cscratch1/sd/huikong/obiwan_Aug/HPSS/tractor',brick_ngc[:3],brick_ngc,'rs0','tractor-'+brick_ngc+'.fits'))\n",
    "obiwan_sgc = fits.getdata(os.path.join('/global/cscratch1/sd/huikong/obiwan_Aug/repos_for_docker/obiwan_out/elg_200per_run/tractor/',brick_sgc[:3],brick_sgc,'more_rs0','tractor-'+brick_sgc+'.fits'))"
   ]
  },
  {
   "cell_type": "code",
   "execution_count": 174,
   "metadata": {},
   "outputs": [],
   "source": [
    "from astropy.table import Column, Table\n",
    "from astropy.coordinates import SkyCoord\n",
    "from astropy import units as u\n"
   ]
  },
  {
   "cell_type": "code",
   "execution_count": 175,
   "metadata": {},
   "outputs": [],
   "source": [
    "#ngc match\n",
    "c1 = SkyCoord(ra=tractor_ngc['ra']*u.degree, dec=tractor_ngc['dec']*u.degree)\n",
    "c2 = SkyCoord(ra=obiwan_ngc['ra']*u.degree, dec=obiwan_ngc['dec']*u.degree)\n",
    "idx, d2d, d3d = c1.match_to_catalog_sky(c2)\n",
    "idx1=idx\n",
    "idx2=idx[idx]\n",
    "tractor_sorted = tractor_ngc[idx1]\n",
    "obiwan_sorted = obiwan_ngc[idx2]"
   ]
  },
  {
   "cell_type": "code",
   "execution_count": 177,
   "metadata": {},
   "outputs": [],
   "source": [
    "g_mw_tramsmission = tractor_sorted['DECAM_MW_TRANSMISSION'].transpose()[1]"
   ]
  },
  {
   "cell_type": "code",
   "execution_count": 178,
   "metadata": {},
   "outputs": [
    {
     "data": {
      "text/plain": [
       "[<matplotlib.lines.Line2D at 0x2aaaf7e97940>]"
      ]
     },
     "execution_count": 178,
     "metadata": {},
     "output_type": "execute_result"
    },
    {
     "data": {
      "image/png": "[encoded data removed]",
      "text/plain": [
       "<matplotlib.figure.Figure at 0x2aaaf7db0208>"
      ]
     },
     "metadata": {},
     "output_type": "display_data"
    }
   ],
   "source": [
    "plt.plot(obiwan_sorted['mw_transmission_g'],g_mw_tramsmission,'r.')"
   ]
  },
  {
   "cell_type": "code",
   "execution_count": 184,
   "metadata": {},
   "outputs": [
    {
     "data": {
      "text/plain": [
       "ColDefs(\n",
       "    name = 'brickid'; format = 'J'\n",
       "    name = 'brickname'; format = '8A'\n",
       "    name = 'objid'; format = 'J'\n",
       "    name = 'brick_primary'; format = 'L'\n",
       "    name = 'blob'; format = 'J'\n",
       "    name = 'ninblob'; format = 'I'\n",
       "    name = 'tycho2inblob'; format = 'L'\n",
       "    name = 'type'; format = '4A'\n",
       "    name = 'ra'; format = 'D'; unit = 'deg'\n",
       "    name = 'ra_ivar'; format = 'E'; unit = '1/deg^2'\n",
       "    name = 'dec'; format = 'D'; unit = 'deg'\n",
       "    name = 'dec_ivar'; format = 'E'; unit = '1/deg^2'\n",
       "    name = 'bx'; format = 'E'\n",
       "    name = 'by'; format = 'E'\n",
       "    name = 'bx0'; format = 'E'\n",
       "    name = 'by0'; format = 'E'\n",
       "    name = 'left_blob'; format = 'L'\n",
       "    name = 'out_of_bounds'; format = 'L'\n",
       "    name = 'dchisq'; format = '5E'\n",
       "    name = 'ebv'; format = 'E'; unit = 'mag'\n",
       "    name = 'cpu_source'; format = 'E'\n",
       "    name = 'cpu_blob'; format = 'E'\n",
       "    name = 'blob_width'; format = 'I'\n",
       "    name = 'blob_height'; format = 'I'\n",
       "    name = 'blob_npix'; format = 'J'\n",
       "    name = 'blob_nimages'; format = 'I'\n",
       "    name = 'blob_totalpix'; format = 'J'\n",
       "    name = 'decam_flux'; format = '6E'; unit = 'nanomaggy'\n",
       "    name = 'decam_flux_ivar'; format = '6E'; unit = '1/nanomaggy^2'\n",
       "    name = 'decam_apflux'; format = '48E'; unit = 'nanomaggy'; dim = '(8,6)'\n",
       "    name = 'decam_apflux_resid'; format = '48E'; unit = 'nanomaggy'; dim = '(8,6)'\n",
       "    name = 'decam_apflux_ivar'; format = '48E'; unit = '1/nanomaggy^2'; dim = '(8,6)'\n",
       "    name = 'decam_mw_transmission'; format = '6E'\n",
       "    name = 'decam_nobs'; format = '6B'\n",
       "    name = 'decam_rchi2'; format = '6E'\n",
       "    name = 'decam_fracflux'; format = '6E'\n",
       "    name = 'decam_fracmasked'; format = '6E'\n",
       "    name = 'decam_fracin'; format = '6E'\n",
       "    name = 'decam_anymask'; format = '6I'\n",
       "    name = 'decam_allmask'; format = '6I'\n",
       "    name = 'decam_psfsize'; format = '6E'\n",
       "    name = 'wise_flux'; format = '4E'; unit = 'nanomaggy'\n",
       "    name = 'wise_flux_ivar'; format = '4E'; unit = '1/nanomaggy^2'\n",
       "    name = 'wise_mw_transmission'; format = '4E'\n",
       "    name = 'wise_nobs'; format = '4I'\n",
       "    name = 'wise_fracflux'; format = '4E'\n",
       "    name = 'wise_rchi2'; format = '4E'\n",
       "    name = 'wise_lc_flux'; format = '10E'; unit = 'nanomaggy'; dim = '(5,2)'\n",
       "    name = 'wise_lc_flux_ivar'; format = '10E'; unit = '1/nanomaggy^2'; dim = '(5,2)'\n",
       "    name = 'wise_lc_nobs'; format = '10I'; dim = '(5,2)'\n",
       "    name = 'wise_lc_fracflux'; format = '10E'; dim = '(5,2)'\n",
       "    name = 'wise_lc_rchi2'; format = '10E'; dim = '(5,2)'\n",
       "    name = 'wise_lc_mjd'; format = '10E'; dim = '(5,2)'\n",
       "    name = 'fracDev'; format = 'E'\n",
       "    name = 'fracDev_ivar'; format = 'E'\n",
       "    name = 'shapeExp_r'; format = 'E'; unit = 'arcsec'\n",
       "    name = 'shapeExp_r_ivar'; format = 'E'; unit = '1/arcsec^2'\n",
       "    name = 'shapeExp_e1'; format = 'E'\n",
       "    name = 'shapeExp_e1_ivar'; format = 'E'\n",
       "    name = 'shapeExp_e2'; format = 'E'\n",
       "    name = 'shapeExp_e2_ivar'; format = 'E'\n",
       "    name = 'shapeDev_r'; format = 'E'; unit = 'arcsec'\n",
       "    name = 'shapeDev_r_ivar'; format = 'E'; unit = '1/arcsec^2'\n",
       "    name = 'shapeDev_e1'; format = 'E'\n",
       "    name = 'shapeDev_e1_ivar'; format = 'E'\n",
       "    name = 'shapeDev_e2'; format = 'E'\n",
       "    name = 'shapeDev_e2_ivar'; format = 'E'\n",
       "    name = 'decam_depth'; format = '6E'; unit = '1/nanomaggy^2'\n",
       "    name = 'decam_galdepth'; format = '6E'; unit = '1/nanomaggy^2'\n",
       ")"
      ]
     },
     "execution_count": 184,
     "metadata": {},
     "output_type": "execute_result"
    }
   ],
   "source": [
    "tractor_ngc.columns"
   ]
  },
  {
   "cell_type": "code",
   "execution_count": 188,
   "metadata": {},
   "outputs": [
    {
     "data": {
      "text/plain": [
       "({0.0, 123.7879, 156.08676, 174.9577, 279.87466},\n",
       " {0.0, 123.7879, 156.04355, 174.95636, 279.83145},\n",
       " {0.0,\n",
       "  126.18331,\n",
       "  157.71465,\n",
       "  173.81557,\n",
       "  283.89795,\n",
       "  428.70139,\n",
       "  441.80338,\n",
       "  450.27676,\n",
       "  575.43573,\n",
       "  599.51801,\n",
       "  602.51697,\n",
       "  605.53259,\n",
       "  606.9671,\n",
       "  607.99139,\n",
       "  615.61896,\n",
       "  624.09235,\n",
       "  725.70129,\n",
       "  733.15039,\n",
       "  878.97815,\n",
       "  892.08014,\n",
       "  1017.2391,\n",
       "  1034.234,\n",
       "  1048.7705,\n",
       "  1049.7948,\n",
       "  1052.7937,\n",
       "  1065.8958,\n",
       "  1174.9537})"
      ]
     },
     "execution_count": 188,
     "metadata": {},
     "output_type": "execute_result"
    }
   ],
   "source": [
    "set(tractor_ngc['DECAM_DEPTH'].transpose()[1]),set(obiwan_ngc['psfdepth_g']),set(tractor5_ngc['psfdepth_g'])"
   ]
  },
  {
   "cell_type": "code",
   "execution_count": 190,
   "metadata": {},
   "outputs": [
    {
     "data": {
      "text/plain": [
       "array([   0.        ,  156.08676147,  105.30466461,    0.        ,\n",
       "         34.20169449,    0.        ], dtype=float32)"
      ]
     },
     "execution_count": 190,
     "metadata": {},
     "output_type": "execute_result"
    }
   ],
   "source": [
    "tractor_ngc['DECAM_DEPTH'][0]"
   ]
  },
  {
   "cell_type": "code",
   "execution_count": 83,
   "metadata": {},
   "outputs": [
    {
     "data": {
      "text/plain": [
       "({95.064301, 115.96684, 211.03114},\n",
       " {0.0,\n",
       "  96.903893,\n",
       "  214.22612,\n",
       "  389.89673,\n",
       "  410.31506,\n",
       "  507.21896,\n",
       "  511.24396,\n",
       "  707.33289,\n",
       "  804.23682})"
      ]
     },
     "execution_count": 83,
     "metadata": {},
     "output_type": "execute_result"
    }
   ],
   "source": [
    "set(obiwan_sorted['galdepth_g']),set(tractor_sorted['galdepth_g'])"
   ]
  },
  {
   "cell_type": "code",
   "execution_count": 50,
   "metadata": {},
   "outputs": [
    {
     "data": {
      "text/plain": [
       "{0.0,\n",
       " 126.18331,\n",
       " 283.89795,\n",
       " 575.43573,\n",
       " 606.9671,\n",
       " 725.70129,\n",
       " 733.15039,\n",
       " 1048.7705,\n",
       " 1174.9537}"
      ]
     },
     "execution_count": 50,
     "metadata": {},
     "output_type": "execute_result"
    }
   ],
   "source": []
  },
  {
   "cell_type": "code",
   "execution_count": 87,
   "metadata": {},
   "outputs": [
    {
     "data": {
      "text/plain": [
       "[<matplotlib.lines.Line2D at 0x2aaaf66576a0>]"
      ]
     },
     "execution_count": 87,
     "metadata": {},
     "output_type": "execute_result"
    },
    {
     "data": {
      "image/png": "[encoded data removed]",
      "text/plain": [
       "<matplotlib.figure.Figure at 0x2aaaf61fb550>"
      ]
     },
     "metadata": {},
     "output_type": "display_data"
    }
   ],
   "source": [
    "#sgc match\n",
    "c1 = SkyCoord(ra=tractor_sgc['ra']*u.degree, dec=tractor_sgc['dec']*u.degree)\n",
    "c2 = SkyCoord(ra=obiwan_sgc['ra']*u.degree, dec=obiwan_sgc['dec']*u.degree)\n",
    "idx, d2d, d3d = c1.match_to_catalog_sky(c2)\n",
    "idx1=idx\n",
    "idx2=idx[idx]\n",
    "tractor_sorted = tractor_sgc[idx1]\n",
    "obiwan_sorted = obiwan_sgc[idx2]\n",
    "plt.plot(obiwan_sorted['rchisq_g'],tractor_sorted['rchisq_g'],'r.')"
   ]
  },
  {
   "cell_type": "code",
   "execution_count": 89,
   "metadata": {},
   "outputs": [
    {
     "data": {
      "text/plain": [
       "({150.80077, 261.40088, 364.16769, 412.20166},\n",
       " {150.12062, 260.86728, 364.2193, 410.98788})"
      ]
     },
     "execution_count": 89,
     "metadata": {},
     "output_type": "execute_result"
    }
   ],
   "source": [
    "set(obiwan_sorted['galdepth_g']),set(tractor_sorted['galdepth_g'])"
   ]
  },
  {
   "cell_type": "code",
   "execution_count": 62,
   "metadata": {},
   "outputs": [
    {
     "data": {
      "text/plain": [
       "(array([  1.30000000e+02,   5.80000000e+01,   0.00000000e+00,\n",
       "          0.00000000e+00,   0.00000000e+00,   0.00000000e+00,\n",
       "          0.00000000e+00,   0.00000000e+00,   0.00000000e+00,\n",
       "          2.52900000e+03,   5.87000000e+02,   0.00000000e+00,\n",
       "          0.00000000e+00,   0.00000000e+00,   0.00000000e+00,\n",
       "          0.00000000e+00,   5.10000000e+01,   0.00000000e+00,\n",
       "          2.00000000e+00,   2.00000000e+00]),\n",
       " array([ -3.21632324e+02,  -2.89489307e+02,  -2.57346289e+02,\n",
       "         -2.25203271e+02,  -1.93060254e+02,  -1.60917236e+02,\n",
       "         -1.28774219e+02,  -9.66312012e+01,  -6.44881836e+01,\n",
       "         -3.23451660e+01,  -2.02148438e-01,   3.19408691e+01,\n",
       "          6.40838867e+01,   9.62269043e+01,   1.28369922e+02,\n",
       "          1.60512939e+02,   1.92655957e+02,   2.24798975e+02,\n",
       "          2.56941992e+02,   2.89085010e+02,   3.21228027e+02]),\n",
       " <a list of 20 Patch objects>)"
      ]
     },
     "execution_count": 62,
     "metadata": {},
     "output_type": "execute_result"
    },
    {
     "data": {
      "image/png": "[encoded data removed]",
      "text/plain": [
       "<matplotlib.figure.Figure at 0x2aaaf1325128>"
      ]
     },
     "metadata": {},
     "output_type": "display_data"
    }
   ],
   "source": [
    "plt.hist(obiwan_sorted['psfdepth_r']-tractor_sorted['psfdepth_r'],bins=20)"
   ]
  },
  {
   "cell_type": "code",
   "execution_count": 63,
   "metadata": {},
   "outputs": [
    {
     "data": {
      "text/plain": [
       "ColDefs(\n",
       "    name = 'release'; format = 'I'\n",
       "    name = 'brickid'; format = 'J'\n",
       "    name = 'brickname'; format = '8A'\n",
       "    name = 'objid'; format = 'J'\n",
       "    name = 'brick_primary'; format = 'L'\n",
       "    name = 'type'; format = '4A'\n",
       "    name = 'ra'; format = 'D'; unit = 'deg'\n",
       "    name = 'dec'; format = 'D'; unit = 'deg'\n",
       "    name = 'ra_ivar'; format = 'E'; unit = '1/deg^2'\n",
       "    name = 'dec_ivar'; format = 'E'; unit = '1/deg^2'\n",
       "    name = 'bx'; format = 'E'\n",
       "    name = 'by'; format = 'E'\n",
       "    name = 'dchisq'; format = '5E'\n",
       "    name = 'ebv'; format = 'E'; unit = 'mag'\n",
       "    name = 'mjd_min'; format = 'D'\n",
       "    name = 'mjd_max'; format = 'D'\n",
       "    name = 'flux_u'; format = 'E'; unit = 'nanomaggy'\n",
       "    name = 'flux_g'; format = 'E'; unit = 'nanomaggy'\n",
       "    name = 'flux_r'; format = 'E'; unit = 'nanomaggy'\n",
       "    name = 'flux_i'; format = 'E'; unit = 'nanomaggy'\n",
       "    name = 'flux_z'; format = 'E'; unit = 'nanomaggy'\n",
       "    name = 'flux_Y'; format = 'E'; unit = 'nanomaggy'\n",
       "    name = 'flux_w1'; format = 'E'; unit = 'nanomaggy'\n",
       "    name = 'flux_w2'; format = 'E'; unit = 'nanomaggy'\n",
       "    name = 'flux_w3'; format = 'E'; unit = 'nanomaggy'\n",
       "    name = 'flux_w4'; format = 'E'; unit = 'nanomaggy'\n",
       "    name = 'flux_ivar_u'; format = 'E'; unit = '1/nanomaggy^2'\n",
       "    name = 'flux_ivar_g'; format = 'E'; unit = '1/nanomaggy^2'\n",
       "    name = 'flux_ivar_r'; format = 'E'; unit = '1/nanomaggy^2'\n",
       "    name = 'flux_ivar_i'; format = 'E'; unit = '1/nanomaggy^2'\n",
       "    name = 'flux_ivar_z'; format = 'E'; unit = '1/nanomaggy^2'\n",
       "    name = 'flux_ivar_Y'; format = 'E'; unit = '1/nanomaggy^2'\n",
       "    name = 'flux_ivar_w1'; format = 'E'; unit = '1/nanomaggy^2'\n",
       "    name = 'flux_ivar_w2'; format = 'E'; unit = '1/nanomaggy^2'\n",
       "    name = 'flux_ivar_w3'; format = 'E'; unit = '1/nanomaggy^2'\n",
       "    name = 'flux_ivar_w4'; format = 'E'; unit = '1/nanomaggy^2'\n",
       "    name = 'apflux_u'; format = '8E'; unit = 'nanomaggy'\n",
       "    name = 'apflux_g'; format = '8E'; unit = 'nanomaggy'\n",
       "    name = 'apflux_r'; format = '8E'; unit = 'nanomaggy'\n",
       "    name = 'apflux_i'; format = '8E'; unit = 'nanomaggy'\n",
       "    name = 'apflux_z'; format = '8E'; unit = 'nanomaggy'\n",
       "    name = 'apflux_Y'; format = '8E'; unit = 'nanomaggy'\n",
       "    name = 'apflux_resid_u'; format = '8E'; unit = 'nanomaggy'\n",
       "    name = 'apflux_resid_g'; format = '8E'; unit = 'nanomaggy'\n",
       "    name = 'apflux_resid_r'; format = '8E'; unit = 'nanomaggy'\n",
       "    name = 'apflux_resid_i'; format = '8E'; unit = 'nanomaggy'\n",
       "    name = 'apflux_resid_z'; format = '8E'; unit = 'nanomaggy'\n",
       "    name = 'apflux_resid_Y'; format = '8E'; unit = 'nanomaggy'\n",
       "    name = 'apflux_ivar_u'; format = '8E'; unit = '1/nanomaggy^2'\n",
       "    name = 'apflux_ivar_g'; format = '8E'; unit = '1/nanomaggy^2'\n",
       "    name = 'apflux_ivar_r'; format = '8E'; unit = '1/nanomaggy^2'\n",
       "    name = 'apflux_ivar_i'; format = '8E'; unit = '1/nanomaggy^2'\n",
       "    name = 'apflux_ivar_z'; format = '8E'; unit = '1/nanomaggy^2'\n",
       "    name = 'apflux_ivar_Y'; format = '8E'; unit = '1/nanomaggy^2'\n",
       "    name = 'mw_transmission_u'; format = 'E'\n",
       "    name = 'mw_transmission_g'; format = 'E'\n",
       "    name = 'mw_transmission_r'; format = 'E'\n",
       "    name = 'mw_transmission_i'; format = 'E'\n",
       "    name = 'mw_transmission_z'; format = 'E'\n",
       "    name = 'mw_transmission_Y'; format = 'E'\n",
       "    name = 'mw_transmission_w1'; format = 'E'\n",
       "    name = 'mw_transmission_w2'; format = 'E'\n",
       "    name = 'mw_transmission_w3'; format = 'E'\n",
       "    name = 'mw_transmission_w4'; format = 'E'\n",
       "    name = 'nobs_u'; format = 'I'\n",
       "    name = 'nobs_g'; format = 'I'\n",
       "    name = 'nobs_r'; format = 'I'\n",
       "    name = 'nobs_i'; format = 'I'\n",
       "    name = 'nobs_z'; format = 'I'\n",
       "    name = 'nobs_Y'; format = 'I'\n",
       "    name = 'nobs_w1'; format = 'I'\n",
       "    name = 'nobs_w2'; format = 'I'\n",
       "    name = 'nobs_w3'; format = 'I'\n",
       "    name = 'nobs_w4'; format = 'I'\n",
       "    name = 'rchisq_u'; format = 'E'\n",
       "    name = 'rchisq_g'; format = 'E'\n",
       "    name = 'rchisq_r'; format = 'E'\n",
       "    name = 'rchisq_i'; format = 'E'\n",
       "    name = 'rchisq_z'; format = 'E'\n",
       "    name = 'rchisq_Y'; format = 'E'\n",
       "    name = 'rchisq_w1'; format = 'E'\n",
       "    name = 'rchisq_w2'; format = 'E'\n",
       "    name = 'rchisq_w3'; format = 'E'\n",
       "    name = 'rchisq_w4'; format = 'E'\n",
       "    name = 'fracflux_u'; format = 'E'\n",
       "    name = 'fracflux_g'; format = 'E'\n",
       "    name = 'fracflux_r'; format = 'E'\n",
       "    name = 'fracflux_i'; format = 'E'\n",
       "    name = 'fracflux_z'; format = 'E'\n",
       "    name = 'fracflux_Y'; format = 'E'\n",
       "    name = 'fracflux_w1'; format = 'E'\n",
       "    name = 'fracflux_w2'; format = 'E'\n",
       "    name = 'fracflux_w3'; format = 'E'\n",
       "    name = 'fracflux_w4'; format = 'E'\n",
       "    name = 'fracmasked_u'; format = 'E'\n",
       "    name = 'fracmasked_g'; format = 'E'\n",
       "    name = 'fracmasked_r'; format = 'E'\n",
       "    name = 'fracmasked_i'; format = 'E'\n",
       "    name = 'fracmasked_z'; format = 'E'\n",
       "    name = 'fracmasked_Y'; format = 'E'\n",
       "    name = 'fracin_u'; format = 'E'\n",
       "    name = 'fracin_g'; format = 'E'\n",
       "    name = 'fracin_r'; format = 'E'\n",
       "    name = 'fracin_i'; format = 'E'\n",
       "    name = 'fracin_z'; format = 'E'\n",
       "    name = 'fracin_Y'; format = 'E'\n",
       "    name = 'anymask_u'; format = 'I'\n",
       "    name = 'anymask_g'; format = 'I'\n",
       "    name = 'anymask_r'; format = 'I'\n",
       "    name = 'anymask_i'; format = 'I'\n",
       "    name = 'anymask_z'; format = 'I'\n",
       "    name = 'anymask_Y'; format = 'I'\n",
       "    name = 'allmask_u'; format = 'I'\n",
       "    name = 'allmask_g'; format = 'I'\n",
       "    name = 'allmask_r'; format = 'I'\n",
       "    name = 'allmask_i'; format = 'I'\n",
       "    name = 'allmask_z'; format = 'I'\n",
       "    name = 'allmask_Y'; format = 'I'\n",
       "    name = 'wisemask_w1'; format = 'B'\n",
       "    name = 'wisemask_w2'; format = 'B'\n",
       "    name = 'psfsize_u'; format = 'E'; unit = 'arcsec'\n",
       "    name = 'psfsize_g'; format = 'E'; unit = 'arcsec'\n",
       "    name = 'psfsize_r'; format = 'E'; unit = 'arcsec'\n",
       "    name = 'psfsize_i'; format = 'E'; unit = 'arcsec'\n",
       "    name = 'psfsize_z'; format = 'E'; unit = 'arcsec'\n",
       "    name = 'psfsize_Y'; format = 'E'; unit = 'arcsec'\n",
       "    name = 'psfdepth_u'; format = 'E'; unit = '1/nanomaggy^2'\n",
       "    name = 'psfdepth_g'; format = 'E'; unit = '1/nanomaggy^2'\n",
       "    name = 'psfdepth_r'; format = 'E'; unit = '1/nanomaggy^2'\n",
       "    name = 'psfdepth_i'; format = 'E'; unit = '1/nanomaggy^2'\n",
       "    name = 'psfdepth_z'; format = 'E'; unit = '1/nanomaggy^2'\n",
       "    name = 'psfdepth_Y'; format = 'E'; unit = '1/nanomaggy^2'\n",
       "    name = 'galdepth_u'; format = 'E'; unit = '1/nanomaggy^2'\n",
       "    name = 'galdepth_g'; format = 'E'; unit = '1/nanomaggy^2'\n",
       "    name = 'galdepth_r'; format = 'E'; unit = '1/nanomaggy^2'\n",
       "    name = 'galdepth_i'; format = 'E'; unit = '1/nanomaggy^2'\n",
       "    name = 'galdepth_z'; format = 'E'; unit = '1/nanomaggy^2'\n",
       "    name = 'galdepth_Y'; format = 'E'; unit = '1/nanomaggy^2'\n",
       "    name = 'wise_coadd_id'; format = '8A'\n",
       "    name = 'lc_flux_w1'; format = '7E'; unit = 'nanomaggy'\n",
       "    name = 'lc_flux_w2'; format = '7E'; unit = 'nanomaggy'\n",
       "    name = 'lc_flux_ivar_w1'; format = '7E'; unit = '1/nanomaggy^2'\n",
       "    name = 'lc_flux_ivar_w2'; format = '7E'; unit = '1/nanomaggy^2'\n",
       "    name = 'lc_nobs_w1'; format = '7I'\n",
       "    name = 'lc_nobs_w2'; format = '7I'\n",
       "    name = 'lc_fracflux_w1'; format = '7E'\n",
       "    name = 'lc_fracflux_w2'; format = '7E'\n",
       "    name = 'lc_rchisq_w1'; format = '7E'\n",
       "    name = 'lc_rchisq_w2'; format = '7E'\n",
       "    name = 'lc_mjd_w1'; format = '7D'\n",
       "    name = 'lc_mjd_w2'; format = '7D'\n",
       "    name = 'fracdev'; format = 'E'\n",
       "    name = 'fracdev_ivar'; format = 'E'\n",
       "    name = 'shapeexp_r'; format = 'E'; unit = 'arcsec'\n",
       "    name = 'shapeexp_r_ivar'; format = 'E'; unit = '1/arcsec^2'\n",
       "    name = 'shapeexp_e1'; format = 'E'\n",
       "    name = 'shapeexp_e1_ivar'; format = 'E'\n",
       "    name = 'shapeexp_e2'; format = 'E'\n",
       "    name = 'shapeexp_e2_ivar'; format = 'E'\n",
       "    name = 'shapedev_r'; format = 'E'; unit = 'arcsec'\n",
       "    name = 'shapedev_r_ivar'; format = 'E'; unit = '1/arcsec^2'\n",
       "    name = 'shapedev_e1'; format = 'E'\n",
       "    name = 'shapedev_e1_ivar'; format = 'E'\n",
       "    name = 'shapedev_e2'; format = 'E'\n",
       "    name = 'shapedev_e2_ivar'; format = 'E'\n",
       ")"
      ]
     },
     "execution_count": 63,
     "metadata": {},
     "output_type": "execute_result"
    }
   ],
   "source": [
    "tractor_sorted.columns"
   ]
  },
  {
   "cell_type": "code",
   "execution_count": 93,
   "metadata": {},
   "outputs": [],
   "source": [
    "def select_ELG( dat , region = 'sgc'):\n",
    "    \"\"\"\n",
    "    Given the path to a tractor catalog, it returns two sub catalogs with the eBOSS ELG selections applied (NGC and SGC).\n",
    "    \"\"\"\n",
    "    import numpy as n\n",
    "    # the color color selection\n",
    "    g     = 22.5 - 2.5 * n.log10(dat['flux_g'] / dat['mw_transmission_g'])\n",
    "    r_mag = 22.5 - 2.5 * n.log10(dat['flux_r'] / dat['mw_transmission_r'])\n",
    "    z_mag = 22.5 - 2.5 * n.log10(dat['flux_z'] / dat['mw_transmission_z'])\n",
    "    gr = g - r_mag\n",
    "    rz = r_mag - z_mag\n",
    "    color_sgc = (g>21.825)&(g<22.825)&(-0.068*rz+0.457<gr)&(gr< 0.112*rz+0.773) &(0.218*gr+0.571<rz)&(rz<-0.555*gr+1.901)\n",
    "    color_ngc = (g>21.825)&(g<22.9)  &(-0.068*rz+0.457<gr)&(gr< 0.112*rz+0.773) &(0.637*gr+0.399<rz)&(rz<-0.555*gr+1.901) \n",
    "    # the junk rejection criterion\n",
    "    noJunk = (dat['brick_primary']) & (dat['anymask_g']==0) & (dat['anymask_r']==0) & (dat['anymask_z']==0) #& (dat['TYCHO2INBLOB']==False)\n",
    "    # the low depth region rejection\n",
    "    value_g=dat['psfdepth_g']\n",
    "    value_r=dat['psfdepth_r']\n",
    "    value_z=dat['psfdepth_z']\n",
    "    gL = 62.79716079 \n",
    "    rL = 30.05661087\n",
    "    zL_ngc = 11.0\n",
    "    zL_sgc = 12.75  \n",
    "    depth_selection_ngc = (value_g > gL) & (value_r > rL) & (value_z > zL_ngc)\n",
    "    depth_selection_sgc = (value_g > gL) & (value_r > rL) & (value_z > zL_sgc)\n",
    "    # final selection boolean array :\n",
    "    selection_sgc =(noJunk)&(color_sgc)&(depth_selection_sgc)\n",
    "    selection_ngc =(noJunk)&(color_ngc)&(depth_selection_ngc)\n",
    "    # returns the catalogs of ELGs\n",
    "    if region == 'sgc':\n",
    "        if len(selection_sgc.nonzero()[0])>0:\n",
    "            flag = True\n",
    "            return flag, dat[selection_sgc]\n",
    "        else:\n",
    "            flag = False\n",
    "            return flag, dat[selection_sgc]\n",
    "    if region == 'ngc':\n",
    "            if len(selection_ngc.nonzero()[0])>0 :\n",
    "                flag = True\n",
    "                return flag, dat[selection_ngc]\n",
    "            else:\n",
    "                flag = False\n",
    "                return flag, dat[selection_ngc] "
   ]
  },
  {
   "cell_type": "code",
   "execution_count": 99,
   "metadata": {},
   "outputs": [
    {
     "name": "stderr",
     "output_type": "stream",
     "text": [
      "/global/common/software/desi/cori/desiconda/20180709-1.2.6-spec/conda/lib/python3.6/site-packages/ipykernel/__main__.py:7: RuntimeWarning: invalid value encountered in log10\n",
      "/global/common/software/desi/cori/desiconda/20180709-1.2.6-spec/conda/lib/python3.6/site-packages/ipykernel/__main__.py:8: RuntimeWarning: invalid value encountered in log10\n",
      "/global/common/software/desi/cori/desiconda/20180709-1.2.6-spec/conda/lib/python3.6/site-packages/ipykernel/__main__.py:12: RuntimeWarning: invalid value encountered in greater\n",
      "/global/common/software/desi/cori/desiconda/20180709-1.2.6-spec/conda/lib/python3.6/site-packages/ipykernel/__main__.py:12: RuntimeWarning: invalid value encountered in less\n",
      "/global/common/software/desi/cori/desiconda/20180709-1.2.6-spec/conda/lib/python3.6/site-packages/ipykernel/__main__.py:13: RuntimeWarning: invalid value encountered in greater\n",
      "/global/common/software/desi/cori/desiconda/20180709-1.2.6-spec/conda/lib/python3.6/site-packages/ipykernel/__main__.py:13: RuntimeWarning: invalid value encountered in less\n",
      "/global/common/software/desi/cori/desiconda/20180709-1.2.6-spec/conda/lib/python3.6/site-packages/ipykernel/__main__.py:9: RuntimeWarning: invalid value encountered in log10\n"
     ]
    }
   ],
   "source": [
    "flag, obiwan_ngc_elg = select_ELG(obiwan_ngc)\n",
    "flag, tractor_ngc_elg = select_ELG(tractor_ngc)"
   ]
  },
  {
   "cell_type": "code",
   "execution_count": 166,
   "metadata": {},
   "outputs": [
    {
     "name": "stderr",
     "output_type": "stream",
     "text": [
      "/global/common/software/desi/cori/desiconda/20180709-1.2.6-spec/conda/lib/python3.6/site-packages/ipykernel/__main__.py:3: RuntimeWarning: invalid value encountered in log10\n",
      "  app.launch_new_instance()\n",
      "/global/common/software/desi/cori/desiconda/20180709-1.2.6-spec/conda/lib/python3.6/site-packages/ipykernel/__main__.py:9: RuntimeWarning: invalid value encountered in less\n"
     ]
    },
    {
     "data": {
      "text/plain": [
       "(21.5, 23)"
      ]
     },
     "execution_count": 166,
     "metadata": {},
     "output_type": "execute_result"
    },
    {
     "data": {
      "image/png": "[encoded data removed]",
      "text/plain": [
       "<matplotlib.figure.Figure at 0x2aaaf7d9af28>"
      ]
     },
     "metadata": {},
     "output_type": "display_data"
    }
   ],
   "source": [
    "g1 = 22.5 - 2.5 * np.log10(obiwan_ngc_elg['flux_g'] / obiwan_ngc_elg['mw_transmission_g'])\n",
    "g2 = 22.5 - 2.5 * np.log10(tractor_ngc_elg['flux_g'] / tractor_ngc_elg['mw_transmission_g'])\n",
    "g3 = 22.5 - 2.5 * np.log10(obiwan_ngc['flux_g'] / obiwan_ngc['mw_transmission_g'])\n",
    "#plt.hist(obiwan_ngc_elg['flux_g'],normed=True)\n",
    "#plt.hist(tractor_ngc_elg['flux_g'],alpha=0.5,normed=True)\n",
    "\n",
    "plt.hist(g1,normed=True)\n",
    "plt.hist(g2,alpha=0.5,normed=True)\n",
    "plt.hist(g3[g3<100],alpha=0.5,normed=True,bins=40)\n",
    "plt.gca().set_xlim((21.5,23))"
   ]
  },
  {
   "cell_type": "code",
   "execution_count": 159,
   "metadata": {},
   "outputs": [
    {
     "data": {
      "text/plain": [
       "array([ 22.78983688,  23.29763031,          nan,  25.70144653,\n",
       "        22.15897751,  22.9127388 ,  28.88446808,  22.74848938,\n",
       "        23.50105095,  22.46854591,  22.92564583,  23.18375397,\n",
       "        22.91396141,  22.82176971,  24.02405357,  23.13768387,\n",
       "        24.71373367,  21.38659096,  22.01078033,  22.7458992 ,\n",
       "        23.23492241,  23.21004486,  22.88504982,  22.66028023,\n",
       "        22.90288544,  23.03413391,  22.11079216,  23.8008728 ,\n",
       "        21.44158173,  22.47982788,  23.43915367,  23.78777122,\n",
       "        23.03965569,  23.09916878,  23.05860138,  23.19968605,\n",
       "        21.6724472 ,  22.66306114,  23.30150986,  22.84910202,\n",
       "        22.54644203,  22.48201561,  22.52088165,  22.30944824,\n",
       "        15.60958385,  18.32790756,  22.14468384,  19.95453644,\n",
       "        18.5474453 ,  23.03312874,  22.53431511,  22.56741524,\n",
       "        23.94673157,  22.79455185,  22.89552689,  22.61806107,\n",
       "        26.99321938,  23.19916725,  23.99059486,  22.31594849,\n",
       "        23.7641468 ,  18.60776138,  22.08366585,  23.01209831,\n",
       "        22.27665329,  23.63592148,  23.46422768,  22.41601181,\n",
       "        22.54552078,  15.7346344 ,  22.85456085,  23.03190994,\n",
       "        23.30297279,  22.49164391,  22.860075  ,  22.00823784,\n",
       "        22.65135193,  22.84908867,  23.73498344,  18.46497154,\n",
       "                nan,  22.63876915,  23.01184273,  23.38809967,\n",
       "        22.9549408 ,  22.6776886 ,  22.24547958,  22.65913773,\n",
       "        23.24571419,  23.41930771,  23.10635567,  24.60001755,\n",
       "        23.35980034,  22.77040672,  23.89169884,  23.26520348,\n",
       "        22.57210732,  22.27685165,  22.99687958,  24.14083481,\n",
       "        21.21066093,  22.97159576,  22.73279953,  24.59523773,\n",
       "        22.2087326 ,  22.98333359,  23.14621353,  19.83141708,\n",
       "        22.61545944,  24.31526756,  23.95288277,  23.32699203,\n",
       "        22.84455109,          nan,  22.94417   ,  18.7543869 ,\n",
       "        22.04821205,  23.07801247,  22.86231804,  22.05256844,\n",
       "        22.90348625,  22.65163994,  23.77544785,  23.25675583,\n",
       "        23.34339523,  22.33663559,  22.1519928 ,  24.17256546,\n",
       "        24.25909233,  24.45301628,  21.49505234,  23.39416313,\n",
       "        23.17274666,  23.20286179,  22.99687576,  22.95244026,\n",
       "        23.63922691,  26.78404808,          nan,  23.00735664,\n",
       "        11.24202633,  20.28475189,  21.38621902,  21.5879612 ,\n",
       "        22.37091827,  22.63102531,  22.57369614,  22.27242088,\n",
       "        22.60800743,  23.82638359,  24.32194138,          nan,\n",
       "        23.71005821,  23.75017738,  23.15363312,  22.73601151,\n",
       "        22.8123436 ,  10.93333435,  22.38538933,  22.03626442,\n",
       "        22.11896896,  19.8955574 ,  21.33416367,  22.97873497,\n",
       "        22.32083511,  22.88326454,  21.33106804,  23.7469368 ,\n",
       "        22.50106621,  22.87883949,  23.81372452,  23.06490326,\n",
       "        25.47540474,  23.0752964 ,  23.24252129,  11.0773325 ,\n",
       "        17.84742546,  23.48038673,  22.99394989,  22.99730492,\n",
       "        21.26790237,  22.51522064,  22.54191399,  23.78607368,\n",
       "        23.05085182,  22.78229904,  22.37232208,  22.76607323,\n",
       "        22.55588722,  23.49678612,  23.10385895,  23.02180481,\n",
       "        23.06689072,  22.7232666 ,  23.25962067,  12.24141693,\n",
       "        20.41678429,  20.65345955,  20.46228409,  22.43242645,\n",
       "        22.59521103,  22.93981171,  22.52952576,  23.76949692,\n",
       "        22.4203186 ,  26.96292496,  22.82334137,  23.68945122,\n",
       "        22.97862244,  22.8217907 ,  23.20353889,  24.04497147,\n",
       "        22.15710068,  23.12657166,  23.23574066,  22.73601723,\n",
       "        23.12698936,  22.9757843 ,          nan,  22.76285172,\n",
       "        23.95866585,  16.36151505,  18.05094719,  22.82487488,\n",
       "        22.17210388,  22.07549286,  22.8289299 ,  22.56490135,\n",
       "        22.7074337 ,  22.49162483,  22.62737465,  23.43120956,\n",
       "        23.16102409,  22.62661934,  23.26699066], dtype=float32)"
      ]
     },
     "execution_count": 159,
     "metadata": {},
     "output_type": "execute_result"
    }
   ],
   "source": [
    "g3"
   ]
  },
  {
   "cell_type": "code",
   "execution_count": 102,
   "metadata": {},
   "outputs": [
    {
     "name": "stderr",
     "output_type": "stream",
     "text": [
      "/global/common/software/desi/cori/desiconda/20180709-1.2.6-spec/conda/lib/python3.6/site-packages/ipykernel/__main__.py:7: RuntimeWarning: divide by zero encountered in log10\n",
      "/global/common/software/desi/cori/desiconda/20180709-1.2.6-spec/conda/lib/python3.6/site-packages/ipykernel/__main__.py:7: RuntimeWarning: invalid value encountered in log10\n",
      "/global/common/software/desi/cori/desiconda/20180709-1.2.6-spec/conda/lib/python3.6/site-packages/ipykernel/__main__.py:8: RuntimeWarning: divide by zero encountered in log10\n",
      "/global/common/software/desi/cori/desiconda/20180709-1.2.6-spec/conda/lib/python3.6/site-packages/ipykernel/__main__.py:8: RuntimeWarning: invalid value encountered in log10\n",
      "/global/common/software/desi/cori/desiconda/20180709-1.2.6-spec/conda/lib/python3.6/site-packages/ipykernel/__main__.py:10: RuntimeWarning: invalid value encountered in subtract\n",
      "/global/common/software/desi/cori/desiconda/20180709-1.2.6-spec/conda/lib/python3.6/site-packages/ipykernel/__main__.py:12: RuntimeWarning: invalid value encountered in greater\n",
      "/global/common/software/desi/cori/desiconda/20180709-1.2.6-spec/conda/lib/python3.6/site-packages/ipykernel/__main__.py:12: RuntimeWarning: invalid value encountered in less\n",
      "/global/common/software/desi/cori/desiconda/20180709-1.2.6-spec/conda/lib/python3.6/site-packages/ipykernel/__main__.py:13: RuntimeWarning: invalid value encountered in greater\n",
      "/global/common/software/desi/cori/desiconda/20180709-1.2.6-spec/conda/lib/python3.6/site-packages/ipykernel/__main__.py:13: RuntimeWarning: invalid value encountered in less\n",
      "/global/common/software/desi/cori/desiconda/20180709-1.2.6-spec/conda/lib/python3.6/site-packages/ipykernel/__main__.py:9: RuntimeWarning: divide by zero encountered in log10\n",
      "/global/common/software/desi/cori/desiconda/20180709-1.2.6-spec/conda/lib/python3.6/site-packages/ipykernel/__main__.py:9: RuntimeWarning: invalid value encountered in log10\n",
      "/global/common/software/desi/cori/desiconda/20180709-1.2.6-spec/conda/lib/python3.6/site-packages/ipykernel/__main__.py:11: RuntimeWarning: invalid value encountered in subtract\n"
     ]
    }
   ],
   "source": [
    "flag, obiwan_sgc_elg = select_ELG(obiwan_sgc)\n",
    "flag, tractor_sgc_elg = select_ELG(tractor_sgc)"
   ]
  },
  {
   "cell_type": "code",
   "execution_count": 112,
   "metadata": {},
   "outputs": [
    {
     "data": {
      "text/plain": [
       "(array([ 0.20887185,  0.34811975,  0.20887185,  0.1392479 ,  0.2784958 ,\n",
       "         0.06962395,  0.        ,  0.        ,  0.        ,  0.06962395]),\n",
       " array([ 2.35082626,  3.10676699,  3.86270771,  4.61864843,  5.37458916,\n",
       "         6.13052988,  6.8864706 ,  7.64241133,  8.39835205,  9.15429277,\n",
       "         9.9102335 ]),\n",
       " <a list of 10 Patch objects>)"
      ]
     },
     "execution_count": 112,
     "metadata": {},
     "output_type": "execute_result"
    },
    {
     "data": {
      "image/png": "[encoded data removed]",
      "text/plain": [
       "<matplotlib.figure.Figure at 0x2aaaf6cb98d0>"
      ]
     },
     "metadata": {},
     "output_type": "display_data"
    }
   ],
   "source": [
    "plt.hist(obiwan_sgc_elg['flux_z'],normed=True)\n",
    "plt.hist(tractor_sgc_elg['flux_z'],alpha=0.5,normed=True)"
   ]
  },
  {
   "cell_type": "code",
   "execution_count": 130,
   "metadata": {},
   "outputs": [
    {
     "data": {
      "text/plain": [
       "(array([ 0.26423542,  0.39635314,  0.48443161,  0.88078474,  0.79270627,\n",
       "         1.32117712,  1.10098093,  1.71753025,  1.05694169,  0.79270627]),\n",
       " array([ 21.88648415,  22.00001926,  22.11355438,  22.2270895 ,\n",
       "         22.34062462,  22.45415974,  22.56769485,  22.68122997,\n",
       "         22.79476509,  22.90830021,  23.02183533]),\n",
       " <a list of 10 Patch objects>)"
      ]
     },
     "execution_count": 130,
     "metadata": {},
     "output_type": "execute_result"
    },
    {
     "data": {
      "image/png": "[encoded data removed]",
      "text/plain": [
       "<matplotlib.figure.Figure at 0x2aaaf7093588>"
      ]
     },
     "metadata": {},
     "output_type": "display_data"
    }
   ],
   "source": [
    "g1 = 22.5 - 2.5 * np.log10(obiwan_sgc_elg['flux_g'] / obiwan_sgc_elg['mw_transmission_g'])\n",
    "g2 = 22.5 - 2.5 * np.log10(tractor_sgc_elg['flux_g'] / tractor_sgc_elg['mw_transmission_g'])\n",
    "\n",
    "#plt.hist(obiwan_ngc_elg['flux_g'],normed=True)\n",
    "#plt.hist(tractor_ngc_elg['flux_g'],alpha=0.5,normed=True)\n",
    "\n",
    "plt.hist(g1,normed=True)\n",
    "plt.hist(g2,alpha=0.5,normed=True)\n",
    "plt.hist(dat['g'],alpha=0.5,normed=True)"
   ]
  },
  {
   "cell_type": "code",
   "execution_count": 122,
   "metadata": {},
   "outputs": [],
   "source": [
    "sim = '/global/cscratch1/sd/huikong/obiwan_Aug/repos_for_docker/obiwan_out/eboss_elg/sgc_brick_dat_2/'+'brick_'+brick_sgc+'.fits'"
   ]
  },
  {
   "cell_type": "code",
   "execution_count": 123,
   "metadata": {},
   "outputs": [],
   "source": [
    "dat = fits.getdata(sim)[:200]"
   ]
  },
  {
   "cell_type": "code",
   "execution_count": 124,
   "metadata": {},
   "outputs": [
    {
     "data": {
      "text/plain": [
       "(array([  6.,   9.,  11.,  20.,  18.,  30.,  25.,  39.,  24.,  18.]),\n",
       " array([ 21.88648415,  22.00001926,  22.11355438,  22.2270895 ,\n",
       "         22.34062462,  22.45415974,  22.56769485,  22.68122997,\n",
       "         22.79476509,  22.90830021,  23.02183533]),\n",
       " <a list of 10 Patch objects>)"
      ]
     },
     "execution_count": 124,
     "metadata": {},
     "output_type": "execute_result"
    },
    {
     "data": {
      "image/png": "[encoded data removed]",
      "text/plain": [
       "<matplotlib.figure.Figure at 0x2aaaf6f0b780>"
      ]
     },
     "metadata": {},
     "output_type": "display_data"
    }
   ],
   "source": [
    "plt.hist(dat['g'])"
   ]
  },
  {
   "cell_type": "code",
   "execution_count": 126,
   "metadata": {},
   "outputs": [
    {
     "name": "stderr",
     "output_type": "stream",
     "text": [
      "/global/common/software/desi/cori/desiconda/20180709-1.2.6-spec/conda/lib/python3.6/site-packages/ipykernel/__main__.py:1: RuntimeWarning: divide by zero encountered in log10\n",
      "  if __name__ == '__main__':\n",
      "/global/common/software/desi/cori/desiconda/20180709-1.2.6-spec/conda/lib/python3.6/site-packages/ipykernel/__main__.py:1: RuntimeWarning: invalid value encountered in log10\n",
      "  if __name__ == '__main__':\n"
     ]
    }
   ],
   "source": [
    "g1 = 22.5 - 2.5 * np.log10(tractor_sgc['flux_g'] / tractor_sgc['mw_transmission_g'])"
   ]
  },
  {
   "cell_type": "code",
   "execution_count": 134,
   "metadata": {},
   "outputs": [],
   "source": [
    "chunk = 'chunk22'\n",
    "topdir = '/global/cscratch1/sd/huikong/obiwan_Aug/repos_for_docker/obiwan_out/subset/'\n",
    "fn = 'eBOSS_ELG_full_ALL_v4.dat_cutted_really_masked_'+chunk+'.fits'\n",
    "dat = fits.getdata(topdir+fn)"
   ]
  },
  {
   "cell_type": "code",
   "execution_count": 135,
   "metadata": {},
   "outputs": [
    {
     "data": {
      "text/plain": [
       "(array([  2700.,   3394.,   4428.,   5665.,   7421.,   9648.,  12422.,\n",
       "         15399.,  19429.,  23903.]),\n",
       " array([ 21.82502365,  21.92502079,  22.02501793,  22.12501507,\n",
       "         22.22501221,  22.32500935,  22.42500648,  22.52500362,\n",
       "         22.62500076,  22.7249979 ,  22.82499504]),\n",
       " <a list of 10 Patch objects>)"
      ]
     },
     "execution_count": 135,
     "metadata": {},
     "output_type": "execute_result"
    },
    {
     "data": {
      "image/png": "[encoded data removed]",
      "text/plain": [
       "<matplotlib.figure.Figure at 0x2aaaf70d6a20>"
      ]
     },
     "metadata": {},
     "output_type": "display_data"
    }
   ],
   "source": [
    "plt.hist(dat['g'])"
   ]
  },
  {
   "cell_type": "code",
   "execution_count": 136,
   "metadata": {},
   "outputs": [
    {
     "data": {
      "text/plain": [
       "(0.7522352473225915,\n",
       " 0.50286369047402069,\n",
       " 4.6224019596830992,\n",
       " 4.3746615988248543)"
      ]
     },
     "execution_count": 136,
     "metadata": {},
     "output_type": "execute_result"
    }
   ],
   "source": [
    "obiwan_sgc['ra'].max(),obiwan_sgc['ra'].min(),obiwan_sgc['dec'].max(),obiwan_sgc['dec'].min()"
   ]
  },
  {
   "cell_type": "code",
   "execution_count": 143,
   "metadata": {},
   "outputs": [],
   "source": [
    "dat_sel = dat[(dat['ra']>=obiwan_sgc['ra'].min())&(dat['ra']<=obiwan_sgc['ra'].max())&(dat['dec']>=obiwan_sgc['dec'].min())&(dat['dec']<=obiwan_sgc['dec'].max())]"
   ]
  },
  {
   "cell_type": "code",
   "execution_count": 144,
   "metadata": {},
   "outputs": [
    {
     "data": {
      "text/plain": [
       "(array([ 0.,  0.,  0.,  0.,  0.,  1.,  0.,  0.,  0.,  0.]),\n",
       " array([ 21.69378471,  21.79378471,  21.89378471,  21.99378471,\n",
       "         22.09378471,  22.19378471,  22.29378471,  22.39378471,\n",
       "         22.49378471,  22.59378471,  22.69378471]),\n",
       " <a list of 10 Patch objects>)"
      ]
     },
     "execution_count": 144,
     "metadata": {},
     "output_type": "execute_result"
    },
    {
     "data": {
      "image/png": "[encoded data removed]",
      "text/plain": [
       "<matplotlib.figure.Figure at 0x2aaaf0ec8630>"
      ]
     },
     "metadata": {},
     "output_type": "display_data"
    }
   ],
   "source": [
    "plt.hist(dat_sel['g'])"
   ]
  },
  {
   "cell_type": "code",
   "execution_count": 142,
   "metadata": {},
   "outputs": [
    {
     "data": {
      "text/plain": [
       "array([ 22.19378471])"
      ]
     },
     "execution_count": 142,
     "metadata": {},
     "output_type": "execute_result"
    }
   ],
   "source": [
    "dat_sel['g']"
   ]
  },
  {
   "cell_type": "code",
   "execution_count": 148,
   "metadata": {},
   "outputs": [],
   "source": [
    "chunk = 'chunk23'\n",
    "topdir = '/global/cscratch1/sd/huikong/obiwan_Aug/repos_for_docker/obiwan_out/subset/'\n",
    "fn = 'eBOSS_ELG_full_ALL_v4.dat_cutted_kaylan_really_masked_chunk23.fits'\n",
    "dat = fits.getdata(topdir+fn)\n",
    "dat_sel = dat[(dat['ra']>=obiwan_ngc['ra'].min())&(dat['ra']<=obiwan_ngc['ra'].max())&(dat['dec']>=obiwan_ngc['dec'].min())&(dat['dec']<=obiwan_ngc['dec'].max())]"
   ]
  },
  {
   "cell_type": "code",
   "execution_count": 149,
   "metadata": {},
   "outputs": [
    {
     "data": {
      "text/plain": [
       "(array([ 1.,  1.,  0.,  0.,  0.,  1.,  0.,  0.,  4.,  4.]),\n",
       " array([ 21.83043861,  21.92501183,  22.01958504,  22.11415825,\n",
       "         22.20873146,  22.30330467,  22.39787788,  22.4924511 ,\n",
       "         22.58702431,  22.68159752,  22.77617073]),\n",
       " <a list of 10 Patch objects>)"
      ]
     },
     "execution_count": 149,
     "metadata": {},
     "output_type": "execute_result"
    },
    {
     "data": {
      "image/png": "[encoded data removed]",
      "text/plain": [
       "<matplotlib.figure.Figure at 0x2aaaf72efda0>"
      ]
     },
     "metadata": {},
     "output_type": "display_data"
    }
   ],
   "source": [
    "plt.hist(dat_sel['g'])"
   ]
  },
  {
   "cell_type": "code",
   "execution_count": null,
   "metadata": {},
   "outputs": [],
   "source": []
  },
  {
   "cell_type": "code",
   "execution_count": null,
   "metadata": {},
   "outputs": [],
   "source": []
  },
  {
   "cell_type": "code",
   "execution_count": null,
   "metadata": {},
   "outputs": [],
   "source": []
  },
  {
   "cell_type": "code",
   "execution_count": null,
   "metadata": {},
   "outputs": [],
   "source": []
  },
  {
   "cell_type": "code",
   "execution_count": null,
   "metadata": {},
   "outputs": [],
   "source": []
  },
  {
   "cell_type": "code",
   "execution_count": null,
   "metadata": {},
   "outputs": [],
   "source": [
    "\n",
    "#select an NGC brick:\n",
    "brick_ngc = '3268m015'\n",
    "brick_sgc = '3598p017'\n",
    "#tractor dr3 data:\n",
    "tractor_dir = '/global/project/projectdirs/cosmo/data/legacysurvey/dr3/tractor/'\n",
    "tractor_ngc = fits.getdata(tractor_dir+brick_ngc[:3]+'/tractor-'+brick_ngc+'.fits')\n",
    "tractor_sgc = fits.getdata(tractor_dir+brick_sgc[:3]+'/tractor-'+brick_sgc+'.fits')\n",
    "\n",
    "tractor5_dir = '/global/project/projectdirs/cosmo/data/legacysurvey/dr5/tractor/'\n",
    "tractor5_sgc = fits.getdata(tractor5_dir+brick_sgc[:3]+'/tractor-'+brick_sgc+'.fits')\n",
    "\n",
    "#obiwan_output:\n",
    "import os\n",
    "obiwan_ngc = fits.getdata(os.path.join('/global/cscratch1/sd/huikong/obiwan_Aug/HPSS/tractor',brick_ngc[:3],brick_ngc,'rs0','tractor-'+brick_ngc+'.fits'))\n",
    "obiwan_sgc = fits.getdata(os.path.join('/global/cscratch1/sd/huikong/obiwan_Aug/repos_for_docker/obiwan_out/elg_200per_run/tractor/',brick_sgc[:3],brick_sgc,'more_rs0','tractor-'+brick_sgc+'.fits'))"
   ]
  },
  {
   "cell_type": "code",
   "execution_count": null,
   "metadata": {},
   "outputs": [],
   "source": []
  },
  {
   "cell_type": "code",
   "execution_count": 204,
   "metadata": {},
   "outputs": [
    {
     "data": {
      "text/plain": [
       "[<matplotlib.lines.Line2D at 0x2aaaffd22160>]"
      ]
     },
     "execution_count": 204,
     "metadata": {},
     "output_type": "execute_result"
    },
    {
     "data": {
      "image/png": "[encoded data removed]",
      "text/plain": [
       "<matplotlib.figure.Figure at 0x2aaaffd22f28>"
      ]
     },
     "metadata": {},
     "output_type": "display_data"
    }
   ],
   "source": [
    "plt.plot(obiwan_sgc['ra'],obiwan_sgc['dec'],'r.')\n",
    "#plt.plot(tractor_sgc['ra'],tractor_sgc['dec'],'b.')\n",
    "#plt.plot(tractor5_ngc['ra'],tractor5_ngc['dec'],'g.')\n",
    "plt.plot(obiwan_ngc['ra'],obiwan_ngc['dec'],'k.')"
   ]
  },
  {
   "cell_type": "code",
   "execution_count": 234,
   "metadata": {},
   "outputs": [
    {
     "data": {
      "text/plain": [
       "({0.0,\n",
       "  207.74817,\n",
       "  218.85591,\n",
       "  310.32211,\n",
       "  464.3847,\n",
       "  494.11295,\n",
       "  574.84552,\n",
       "  628.18085,\n",
       "  642.48865,\n",
       "  656.9798,\n",
       "  712.96881,\n",
       "  733.95483,\n",
       "  750.74945,\n",
       "  762.18549,\n",
       "  771.93127,\n",
       "  793.70142,\n",
       "  825.2666,\n",
       "  825.79718,\n",
       "  835.92902,\n",
       "  847.03674,\n",
       "  850.23682,\n",
       "  884.81738,\n",
       "  912.0672,\n",
       "  917.74561,\n",
       "  952.81073,\n",
       "  967.30188,\n",
       "  969.27478,\n",
       "  969.93365,\n",
       "  989.63391,\n",
       "  995.2782,\n",
       "  999.66187,\n",
       "  1051.8136,\n",
       "  1054.7849,\n",
       "  1072.5076,\n",
       "  1080.3944,\n",
       "  1092.5656,\n",
       "  1127.8285,\n",
       "  1136.6016,\n",
       "  1151.0928,\n",
       "  1162.5287,\n",
       "  1186.7197,\n",
       "  1187.3242,\n",
       "  1203.0264,\n",
       "  1216.5734,\n",
       "  1226.1405,\n",
       "  1256.2985,\n",
       "  1270.6696,\n",
       "  1331.3462,\n",
       "  1335.7,\n",
       "  1337.031,\n",
       "  1390.3665,\n",
       "  1394.4679,\n",
       "  1409.3667,\n",
       "  1419.1653,\n",
       "  1421.8822,\n",
       "  1443.9608,\n",
       "  1454.4966,\n",
       "  1459.6628,\n",
       "  1472.8508,\n",
       "  1478.4177,\n",
       "  1502.5537,\n",
       "  1518.1084,\n",
       "  1519.4907,\n",
       "  1564.4794,\n",
       "  1582.6849,\n",
       "  1584.0927,\n",
       "  1586.5035,\n",
       "  1610.9569,\n",
       "  1626.6591,\n",
       "  1637.7668,\n",
       "  1646.0221,\n",
       "  1661.5858,\n",
       "  1662.2448,\n",
       "  1667.8011,\n",
       "  1686.3673,\n",
       "  1718.0973,\n",
       "  1731.6893,\n",
       "  1761.5652,\n",
       "  1767.0206,\n",
       "  1770.3171,\n",
       "  1790.4331,\n",
       "  1816.568,\n",
       "  1821.5939,\n",
       "  1829.8129,\n",
       "  1835.563,\n",
       "  1840.7292,\n",
       "  1845.515,\n",
       "  1909.9988,\n",
       "  1913.2782,\n",
       "  1924.4377,\n",
       "  1949.5098,\n",
       "  1965.2119,\n",
       "  1988.3259,\n",
       "  2023.6572,\n",
       "  2029.342,\n",
       "  2033.3671,\n",
       "  2041.9034,\n",
       "  2047.0697,\n",
       "  2197.6343,\n",
       "  2249.6516,\n",
       "  2256.2888,\n",
       "  2346.2783,\n",
       "  2409.0007,\n",
       "  2410.4084,\n",
       "  2414.4333,\n",
       "  2552.6189,\n",
       "  2616.749,\n",
       "  2620.7737},\n",
       " {574.84338,\n",
       "  629.69391,\n",
       "  642.49017,\n",
       "  762.19312,\n",
       "  825.79718,\n",
       "  912.06091,\n",
       "  952.81226,\n",
       "  991.14746,\n",
       "  996.78864,\n",
       "  1137.1212,\n",
       "  1187.8358,\n",
       "  1188.2332,\n",
       "  1204.5372,\n",
       "  1256.8242,\n",
       "  1272.1841,\n",
       "  1331.3538,\n",
       "  1335.6949,\n",
       "  1337.0365,\n",
       "  1410.8792,\n",
       "  1415.853,\n",
       "  1454.5026,\n",
       "  1518.1067,\n",
       "  1565.9908,\n",
       "  1667.8137,\n",
       "  1728.3771,\n",
       "  1763.0765,\n",
       "  1791.951,\n",
       "  1816.574,\n",
       "  1821.5973,\n",
       "  1830.326,\n",
       "  1835.5745,\n",
       "  1847.0275,\n",
       "  1924.4503,\n",
       "  1950.0289,\n",
       "  1985.0137,\n",
       "  2023.6632,\n",
       "  2029.3459,\n",
       "  2041.9164,\n",
       "  2048.5876,\n",
       "  2256.3015,\n",
       "  2620.7837})"
      ]
     },
     "execution_count": 234,
     "metadata": {},
     "output_type": "execute_result"
    }
   ],
   "source": [
    "set(tractor_sgc['DECAM_DEPTH'].transpose()[1]),set(obiwan_sgc['psfdepth_g'])"
   ]
  },
  {
   "cell_type": "code",
   "execution_count": 233,
   "metadata": {},
   "outputs": [
    {
     "data": {
      "text/plain": [
       "({0.0,\n",
       "  207.74417,\n",
       "  463.86194,\n",
       "  465.17258,\n",
       "  497.23987,\n",
       "  571.56262,\n",
       "  627.83264,\n",
       "  641.64929,\n",
       "  656.80066,\n",
       "  754.66827,\n",
       "  760.474,\n",
       "  790.39911,\n",
       "  825.18787,\n",
       "  825.27698,\n",
       "  834.3678,\n",
       "  835.57678,\n",
       "  846.66913,\n",
       "  849.39343,\n",
       "  885.26105,\n",
       "  920.05261,\n",
       "  945.2243,\n",
       "  955.35046,\n",
       "  966.90753,\n",
       "  968.2182,\n",
       "  991.65106,\n",
       "  1000.2855,\n",
       "  1050.6454,\n",
       "  1054.4133,\n",
       "  1074.1753,\n",
       "  1074.6083,\n",
       "  1093.0051,\n",
       "  1128.0806,\n",
       "  1138.8892,\n",
       "  1141.8972,\n",
       "  1154.0405,\n",
       "  1159.8463,\n",
       "  1188.1193,\n",
       "  1199.3953,\n",
       "  1224.6492,\n",
       "  1257.7139,\n",
       "  1269.4819,\n",
       "  1328.3226,\n",
       "  1332.0366,\n",
       "  1332.5287,\n",
       "  1388.3066,\n",
       "  1406.9558,\n",
       "  1417.2747,\n",
       "  1418.2317,\n",
       "  1445.5476,\n",
       "  1454.0975,\n",
       "  1456.8236,\n",
       "  1473.5475,\n",
       "  1477.2261,\n",
       "  1482.0775,\n",
       "  1516.0674,\n",
       "  1518.9004,\n",
       "  1586.8735,\n",
       "  1600.8134,\n",
       "  1610.932,\n",
       "  1622.208,\n",
       "  1633.3003,\n",
       "  1660.531,\n",
       "  1661.8417,\n",
       "  1668.0723,\n",
       "  1727.6948,\n",
       "  1764.5177,\n",
       "  1769.7299,\n",
       "  1815.5126,\n",
       "  1817.9159,\n",
       "  1829.7686,\n",
       "  1841.0446,\n",
       "  1914.5145,\n",
       "  1948.5933,\n",
       "  1959.8693,\n",
       "  1985.1232,\n",
       "  2021.946,\n",
       "  2025.6602,\n",
       "  2031.0369},\n",
       " {0.0,\n",
       "  215.80211,\n",
       "  232.64601,\n",
       "  234.99931,\n",
       "  419.47043,\n",
       "  575.0379,\n",
       "  635.27252,\n",
       "  641.15625,\n",
       "  790.84003,\n",
       "  807.68396,\n",
       "  810.03723,\n",
       "  932.11493,\n",
       "  962.7934,\n",
       "  1158.0482,\n",
       "  1209.2233,\n",
       "  1280.9838,\n",
       "  1291.3507,\n",
       "  1351.5853,\n",
       "  1373.8503,\n",
       "  1382.2638,\n",
       "  1507.1528,\n",
       "  1523.9968,\n",
       "  1881.1478,\n",
       "  1947.801,\n",
       "  1956.2145,\n",
       "  2455.0986})"
      ]
     },
     "execution_count": 233,
     "metadata": {},
     "output_type": "execute_result"
    }
   ],
   "source": [
    "set(tractor5_sgc['psfdepth_g']),set(obiwan_ngc['psfdepth_g'])"
   ]
  },
  {
   "cell_type": "code",
   "execution_count": 226,
   "metadata": {},
   "outputs": [
    {
     "data": {
      "image/png": "[encoded data removed]",
      "text/plain": [
       "<matplotlib.figure.Figure at 0x2aaaff62c240>"
      ]
     },
     "metadata": {},
     "output_type": "display_data"
    }
   ],
   "source": [
    "obiwan_sgc = obiwan_sgc[(obiwan_sgc['flux_g']<10)&(obiwan_sgc['flux_g']>0)]\n",
    "tractor_sgc = fits.getdata(tractor_dir+brick_sgc[:3]+'/tractor-'+brick_sgc+'.fits')\n",
    "tractor_sgc = tractor_sgc['DECAM_FLUX'].transpose()[1]\n",
    "tractor_sgc = tractor_sgc[(tractor_sgc<10)&(tractor_sgc>0)]\n",
    "p = plt.hist(obiwan_sgc['flux_g'],bins=30,normed = True)\n",
    "p = plt.hist(tractor_sgc,bins=30,normed = True,alpha=0.5)"
   ]
  },
  {
   "cell_type": "code",
   "execution_count": 21,
   "metadata": {},
   "outputs": [
    {
     "name": "stdout",
     "output_type": "stream",
     "text": [
      "Populating the interactive namespace from numpy and matplotlib\n"
     ]
    },
    {
     "name": "stderr",
     "output_type": "stream",
     "text": [
      "/global/common/software/desi/cori/desiconda/20180709-1.2.6-spec/conda/lib/python3.6/site-packages/IPython/core/magics/pylab.py:160: UserWarning: pylab import has clobbered these variables: ['uniform']\n",
      "`%matplotlib` prevents importing * from pylab and numpy\n",
      "  \"\\n`%matplotlib` prevents importing * from pylab and numpy\"\n"
     ]
    },
    {
     "data": {
      "text/plain": [
       "<matplotlib.legend.Legend at 0x2aaadf55a8d0>"
      ]
     },
     "execution_count": 21,
     "metadata": {},
     "output_type": "execute_result"
    },
    {
     "data": {
      "image/png": "[encoded data removed]",
      "text/plain": [
       "<matplotlib.figure.Figure at 0x2aaadf299898>"
      ]
     },
     "metadata": {},
     "output_type": "display_data"
    }
   ],
   "source": [
    "%pylab inline\n",
    "import matplotlib.pyplot as plt\n",
    "import numpy as np\n",
    "topdir = '/global/cscratch1/sd/huikong/obiwan_Aug/repos_for_docker/obiwan_out/obiwan_corr/corr_output/'\n",
    "uniform = 'my_ngc_run_uniform.out'\n",
    "obiwan = 'my_ngc_run_obiwan.out'\n",
    "kaylan_obiwan = 'kaylan_cutted_to_my_ngc_run_obiwan.out'\n",
    "plt.gca().set_xscale(\"log\", nonposx='clip')\n",
    "obiwan = np.loadtxt(topdir+obiwan)\n",
    "uniform = np.loadtxt(topdir+uniform)\n",
    "ko = np.loadtxt(topdir+kaylan_obiwan)\n",
    "plt.errorbar(obiwan[0],obiwan[1]*obiwan[0],obiwan[2]*obiwan[0],label = 'obiwan')\n",
    "plt.errorbar(uniform[0],uniform[1]*uniform[0],uniform[2]*uniform[0],label='uniform')\n",
    "plt.errorbar(ko[0],ko[1]*ko[0],ko[2]*ko[0],label='kaylans obiwan')\n",
    "y=np.zeros(len(obiwan[0]))\n",
    "plt.plot(obiwan[0],y,'g--')\n",
    "plt.legend()"
   ]
  },
  {
   "cell_type": "code",
   "execution_count": 4,
   "metadata": {},
   "outputs": [
    {
     "data": {
      "text/plain": [
       "array([[  1.00000000e-02,  -7.32454579e-02,   1.22320528e-01],\n",
       "       [  1.27000824e-02,   9.56176547e-02,   1.05139849e-01],\n",
       "       [  1.61292093e-02,  -5.73204442e-02,   8.26970253e-02],\n",
       "       [  2.04842287e-02,   5.21974954e-02,   6.70426410e-02],\n",
       "       [  2.60151392e-02,   4.38138617e-02,   5.28417996e-02],\n",
       "       [  3.30394412e-02,  -3.58966957e-02,   4.75826799e-02],\n",
       "       [  4.19603625e-02,   3.52829527e-02,   4.08197373e-02],\n",
       "       [  5.32900062e-02,   6.23194918e-02,   3.31113102e-02],\n",
       "       [  6.76787469e-02,  -7.32709841e-03,   2.35783040e-02],\n",
       "       [  8.59525662e-02,   1.19191702e-03,   1.34222893e-02],\n",
       "       [  1.09160467e-01,   1.77988716e-03,   1.54119135e-02],\n",
       "       [  1.38634693e-01,   8.08346426e-03,   1.61955690e-02],\n",
       "       [  1.76067202e-01,   1.80053816e-02,   1.24819647e-02],\n",
       "       [  2.23606798e-01,   9.25991064e-03,   9.73479082e-03],\n",
       "       [  2.83982476e-01,   5.69819330e-03,   6.38466099e-03],\n",
       "       [  3.60660084e-01,   1.54115283e-02,   9.24696123e-03],\n",
       "       [  4.58041278e-01,   5.46459861e-03,   7.92012884e-03],\n",
       "       [  5.81716198e-01,   7.19422099e-04,   3.84526277e-03],\n",
       "       [  7.38784364e-01,   3.91164769e-03,   4.97224021e-03],\n",
       "       [  9.38262230e-01,   2.87952197e-03,   4.82200179e-03],\n",
       "       [  1.19160076e+00,   2.08124742e-03,   2.87655976e-03],\n",
       "       [  1.51334279e+00,   4.31659380e-03,   4.58611146e-03],\n",
       "       [  1.92195781e+00,   3.38638715e-03,   5.05475578e-03],\n",
       "       [  2.44090225e+00,   1.59284400e-03,   3.30024794e-03],\n",
       "       [  3.09996598e+00,   3.45926996e-03,   2.76787125e-03],\n",
       "       [  3.93698233e+00,  -2.77305761e-04,   2.10649848e-03],\n",
       "       [  5.00000000e+00,  -1.06248622e-03,   2.31388263e-03]])"
      ]
     },
     "execution_count": 4,
     "metadata": {},
     "output_type": "execute_result"
    }
   ],
   "source": [
    "obiwan"
   ]
  },
  {
   "cell_type": "code",
   "execution_count": 3,
   "metadata": {},
   "outputs": [
    {
     "data": {
      "text/plain": [
       "array([ 0.01270008,  0.09561765,  0.10513985])"
      ]
     },
     "execution_count": 3,
     "metadata": {},
     "output_type": "execute_result"
    }
   ],
   "source": [
    "obiwan[1]"
   ]
  },
  {
   "cell_type": "code",
   "execution_count": 23,
   "metadata": {},
   "outputs": [],
   "source": [
    "import astropy.io.fits as fits\n",
    "#select an NGC brick:\n",
    "brick_ngc = '3268m015'\n",
    "brick_sgc = '3598p017'\n",
    "#tractor dr3 data:\n",
    "tractor_dir = '/global/project/projectdirs/cosmo/data/legacysurvey/dr3/tractor/'\n",
    "tractor_ngc = fits.getdata(tractor_dir+brick_ngc[:3]+'/tractor-'+brick_ngc+'.fits')\n",
    "tractor_sgc = fits.getdata(tractor_dir+brick_sgc[:3]+'/tractor-'+brick_sgc+'.fits')\n",
    "\n",
    "tractor5_dir = '/global/project/projectdirs/cosmo/data/legacysurvey/dr5/tractor/'\n",
    "tractor5_sgc = fits.getdata(tractor5_dir+brick_sgc[:3]+'/tractor-'+brick_sgc+'.fits')\n",
    "\n",
    "#obiwan_output:\n",
    "import os\n",
    "obiwan_ngc = fits.getdata(os.path.join('/global/cscratch1/sd/huikong/obiwan_Aug/HPSS/tractor',brick_ngc[:3],brick_ngc,'rs0','tractor-'+brick_ngc+'.fits'))\n",
    "obiwan_sgc = fits.getdata(os.path.join('/global/cscratch1/sd/huikong/obiwan_Aug/repos_for_docker/obiwan_out/elg_200per_run/tractor/',brick_sgc[:3],brick_sgc,'more_rs0','tractor-'+brick_sgc+'.fits'))"
   ]
  },
  {
   "cell_type": "code",
   "execution_count": 24,
   "metadata": {},
   "outputs": [],
   "source": [
    "tractor = fits.getdata(os.path.join(tractor_dir,brick_ngc[:3],'tractor-'+brick_ngc+'.fits'))"
   ]
  },
  {
   "cell_type": "code",
   "execution_count": null,
   "metadata": {},
   "outputs": [],
   "source": [
    "    noJunk = (dat['brick_primary']) & (dat['anymask_g']==0) & (dat['anymask_r']==0) & (dat['anymask_z']==0) #& (dat['TYCHO2INBLOB']==False)\n",
    "    # the low depth region rejection\n",
    "    value_g=dat['psfdepth_g']\n",
    "    value_r=dat['psfdepth_r']\n",
    "    value_z=dat['psfdepth_z']"
   ]
  },
  {
   "cell_type": "code",
   "execution_count": 26,
   "metadata": {},
   "outputs": [
    {
     "name": "stdout",
     "output_type": "stream",
     "text": [
      "[   0.          918.38458252  315.71850586    0.           87.99676514\n",
      "    0.        ]\n",
      "[0 0 0 0 1 0]\n",
      "False\n",
      "[ 0.          0.45530686  0.64043605  0.          0.5949015   0.        ]\n",
      "[ 0.82925171  0.86016691  0.903512    0.92810404  0.94482523  0.95135695]\n"
     ]
    }
   ],
   "source": [
    "print(tractor['decam_depth'][0]) #psfdepth ugrizY\n",
    "print(tractor['decam_anymask'][0]) #anymask ugrizY\n",
    "print(tractor['brick_primary'][0])\n",
    "print(tractor['decam_flux'][0])\n",
    "print(tractor['decam_mw_transmission'][0])"
   ]
  },
  {
   "cell_type": "code",
   "execution_count": null,
   "metadata": {},
   "outputs": [],
   "source": [
    "g:1\n",
    "r:2\n",
    "z:4"
   ]
  },
  {
   "cell_type": "code",
   "execution_count": 27,
   "metadata": {},
   "outputs": [
    {
     "data": {
      "text/plain": [
       "ColDefs(\n",
       "    name = 'brickid'; format = 'J'\n",
       "    name = 'brickname'; format = '8A'\n",
       "    name = 'objid'; format = 'J'\n",
       "    name = 'brick_primary'; format = 'L'\n",
       "    name = 'blob'; format = 'J'\n",
       "    name = 'ninblob'; format = 'I'\n",
       "    name = 'tycho2inblob'; format = 'L'\n",
       "    name = 'type'; format = '4A'\n",
       "    name = 'ra'; format = 'D'; unit = 'deg'\n",
       "    name = 'ra_ivar'; format = 'E'; unit = '1/deg^2'\n",
       "    name = 'dec'; format = 'D'; unit = 'deg'\n",
       "    name = 'dec_ivar'; format = 'E'; unit = '1/deg^2'\n",
       "    name = 'bx'; format = 'E'\n",
       "    name = 'by'; format = 'E'\n",
       "    name = 'bx0'; format = 'E'\n",
       "    name = 'by0'; format = 'E'\n",
       "    name = 'left_blob'; format = 'L'\n",
       "    name = 'out_of_bounds'; format = 'L'\n",
       "    name = 'dchisq'; format = '5E'\n",
       "    name = 'ebv'; format = 'E'; unit = 'mag'\n",
       "    name = 'cpu_source'; format = 'E'\n",
       "    name = 'cpu_blob'; format = 'E'\n",
       "    name = 'blob_width'; format = 'I'\n",
       "    name = 'blob_height'; format = 'I'\n",
       "    name = 'blob_npix'; format = 'J'\n",
       "    name = 'blob_nimages'; format = 'I'\n",
       "    name = 'blob_totalpix'; format = 'J'\n",
       "    name = 'decam_flux'; format = '6E'; unit = 'nanomaggy'\n",
       "    name = 'decam_flux_ivar'; format = '6E'; unit = '1/nanomaggy^2'\n",
       "    name = 'decam_apflux'; format = '48E'; unit = 'nanomaggy'; dim = '(8,6)'\n",
       "    name = 'decam_apflux_resid'; format = '48E'; unit = 'nanomaggy'; dim = '(8,6)'\n",
       "    name = 'decam_apflux_ivar'; format = '48E'; unit = '1/nanomaggy^2'; dim = '(8,6)'\n",
       "    name = 'decam_mw_transmission'; format = '6E'\n",
       "    name = 'decam_nobs'; format = '6B'\n",
       "    name = 'decam_rchi2'; format = '6E'\n",
       "    name = 'decam_fracflux'; format = '6E'\n",
       "    name = 'decam_fracmasked'; format = '6E'\n",
       "    name = 'decam_fracin'; format = '6E'\n",
       "    name = 'decam_anymask'; format = '6I'\n",
       "    name = 'decam_allmask'; format = '6I'\n",
       "    name = 'decam_psfsize'; format = '6E'\n",
       "    name = 'wise_flux'; format = '4E'; unit = 'nanomaggy'\n",
       "    name = 'wise_flux_ivar'; format = '4E'; unit = '1/nanomaggy^2'\n",
       "    name = 'wise_mw_transmission'; format = '4E'\n",
       "    name = 'wise_nobs'; format = '4I'\n",
       "    name = 'wise_fracflux'; format = '4E'\n",
       "    name = 'wise_rchi2'; format = '4E'\n",
       "    name = 'wise_lc_flux'; format = '10E'; unit = 'nanomaggy'; dim = '(5,2)'\n",
       "    name = 'wise_lc_flux_ivar'; format = '10E'; unit = '1/nanomaggy^2'; dim = '(5,2)'\n",
       "    name = 'wise_lc_nobs'; format = '10I'; dim = '(5,2)'\n",
       "    name = 'wise_lc_fracflux'; format = '10E'; dim = '(5,2)'\n",
       "    name = 'wise_lc_rchi2'; format = '10E'; dim = '(5,2)'\n",
       "    name = 'wise_lc_mjd'; format = '10E'; dim = '(5,2)'\n",
       "    name = 'fracDev'; format = 'E'\n",
       "    name = 'fracDev_ivar'; format = 'E'\n",
       "    name = 'shapeExp_r'; format = 'E'; unit = 'arcsec'\n",
       "    name = 'shapeExp_r_ivar'; format = 'E'; unit = '1/arcsec^2'\n",
       "    name = 'shapeExp_e1'; format = 'E'\n",
       "    name = 'shapeExp_e1_ivar'; format = 'E'\n",
       "    name = 'shapeExp_e2'; format = 'E'\n",
       "    name = 'shapeExp_e2_ivar'; format = 'E'\n",
       "    name = 'shapeDev_r'; format = 'E'; unit = 'arcsec'\n",
       "    name = 'shapeDev_r_ivar'; format = 'E'; unit = '1/arcsec^2'\n",
       "    name = 'shapeDev_e1'; format = 'E'\n",
       "    name = 'shapeDev_e1_ivar'; format = 'E'\n",
       "    name = 'shapeDev_e2'; format = 'E'\n",
       "    name = 'shapeDev_e2_ivar'; format = 'E'\n",
       "    name = 'decam_depth'; format = '6E'; unit = '1/nanomaggy^2'\n",
       "    name = 'decam_galdepth'; format = '6E'; unit = '1/nanomaggy^2'\n",
       ")"
      ]
     },
     "execution_count": 27,
     "metadata": {},
     "output_type": "execute_result"
    }
   ],
   "source": [
    "tractor.columns"
   ]
  },
  {
   "cell_type": "code",
   "execution_count": 34,
   "metadata": {},
   "outputs": [
    {
     "name": "stdout",
     "output_type": "stream",
     "text": [
      "Populating the interactive namespace from numpy and matplotlib\n"
     ]
    },
    {
     "data": {
      "text/plain": [
       "[<matplotlib.lines.Line2D at 0x2aaae9fb2ac8>]"
      ]
     },
     "execution_count": 34,
     "metadata": {},
     "output_type": "execute_result"
    },
    {
     "data": {
      "image/png": "[encoded data removed]",
      "text/plain": [
       "<matplotlib.figure.Figure at 0x2aaadf5a8d68>"
      ]
     },
     "metadata": {},
     "output_type": "display_data"
    }
   ],
   "source": [
    "%pylab inline \n",
    "import matplotlib.pyplot as plt\n",
    "import astropy.io.fits as fits\n",
    "fn = '/global/cscratch1/sd/huikong/obiwan_Aug/repos_for_docker/obiwan_out/subset/eBOSS_ELG_full_ALL_v4.dat_cutted_really_masked_chunk22_dr3_matched.fits'\n",
    "dat2 = fits.getdata(fn)\n",
    "plt.plot(dat2['ra'],dat2['dec'],'r,')"
   ]
  },
  {
   "cell_type": "code",
   "execution_count": 37,
   "metadata": {},
   "outputs": [
    {
     "data": {
      "text/plain": [
       "(0, 45)"
      ]
     },
     "execution_count": 37,
     "metadata": {},
     "output_type": "execute_result"
    },
    {
     "data": {
      "image/png": "[encoded data removed]",
      "text/plain": [
       "<matplotlib.figure.Figure at 0x2aaae9ebf2e8>"
      ]
     },
     "metadata": {},
     "output_type": "display_data"
    }
   ],
   "source": [
    "fn2='/global/cscratch1/sd/huikong/obiwan_Aug/repos_for_docker/obiwan_out/subset/sgc_run_obiwan_dr3_matched_really_masked_chunk22.fits'\n",
    "dat = fits.getdata(fn2)\n",
    "\n",
    "plt.plot(dat['ra'],dat['dec'],'r,')\n",
    "plt.plot(dat2['ra'],dat2['dec'],'b,')\n",
    "plt.gca().set_xlim((0,45))"
   ]
  },
  {
   "cell_type": "code",
   "execution_count": 32,
   "metadata": {},
   "outputs": [
    {
     "data": {
      "text/plain": [
       "(-2, 2)"
      ]
     },
     "execution_count": 32,
     "metadata": {},
     "output_type": "execute_result"
    },
    {
     "data": {
      "image/png": "[encoded data removed]",
      "text/plain": [
       "<matplotlib.figure.Figure at 0x2aaae9e60b38>"
      ]
     },
     "metadata": {},
     "output_type": "display_data"
    }
   ],
   "source": [
    "fn2='/global/cscratch1/sd/huikong/obiwan_Aug/repos_for_docker/obiwan_out/subset/sgc_run_obiwan_dr3_matched_masked.fits'\n",
    "dat = fits.getdata(fn2)\n",
    "plt.plot(dat['ra'],dat['dec'],'r,')\n",
    "plt.gca().set_xlim((320,360))\n",
    "plt.gca().set_ylim((-2,2))"
   ]
  },
  {
   "cell_type": "code",
   "execution_count": 59,
   "metadata": {},
   "outputs": [
    {
     "name": "stdout",
     "output_type": "stream",
     "text": [
      "Populating the interactive namespace from numpy and matplotlib\n"
     ]
    },
    {
     "name": "stderr",
     "output_type": "stream",
     "text": [
      "/global/common/software/desi/cori/desiconda/20180709-1.2.6-spec/conda/lib/python3.6/site-packages/IPython/core/magics/pylab.py:160: UserWarning: pylab import has clobbered these variables: ['uniform']\n",
      "`%matplotlib` prevents importing * from pylab and numpy\n",
      "  \"\\n`%matplotlib` prevents importing * from pylab and numpy\"\n"
     ]
    },
    {
     "data": {
      "text/plain": [
       "<matplotlib.legend.Legend at 0x2aaaee99eeb8>"
      ]
     },
     "execution_count": 59,
     "metadata": {},
     "output_type": "execute_result"
    },
    {
     "data": {
      "image/png": "[encoded data removed]",
      "text/plain": [
       "<matplotlib.figure.Figure at 0x2aaaee70f8d0>"
      ]
     },
     "metadata": {},
     "output_type": "display_data"
    }
   ],
   "source": [
    "%pylab inline\n",
    "import matplotlib.pyplot as plt\n",
    "import numpy as np\n",
    "topdir = '/global/cscratch1/sd/huikong/obiwan_Aug/repos_for_docker/obiwan_out/obiwan_corr/corr_output/'\n",
    "uniform = 'official_200_per_chunk22_uniform.out'\n",
    "obiwan = 'elg_200per_cut_to_dr3_matched_chunk22_obiwan.out'\n",
    "kaylan_obiwan = 'official_200_per_chunk22_obiwan.out'\n",
    "plt.gca().set_xscale(\"log\", nonposx='clip')\n",
    "obiwan = np.loadtxt(topdir+obiwan)\n",
    "uniform = np.loadtxt(topdir+uniform)\n",
    "ko = np.loadtxt(topdir+kaylan_obiwan)\n",
    "plt.errorbar(obiwan[0],obiwan[1]*obiwan[0],obiwan[2]*obiwan[0],label = 'matching dr3')\n",
    "plt.errorbar(uniform[0],uniform[1]*uniform[0],uniform[2]*uniform[0],label='uniform, no dr3 match')\n",
    "plt.errorbar(ko[0],ko[1]*ko[0],ko[2]*ko[0],label='no dr3 match')\n",
    "y=np.zeros(len(obiwan[0]))\n",
    "plt.plot(obiwan[0],y,'k--')\n",
    "kk=np.ones(len(obiwan[0]))*0.006\n",
    "plt.plot(obiwan[0],kk,'k--')\n",
    "plt.legend()"
   ]
  },
  {
   "cell_type": "code",
   "execution_count": 39,
   "metadata": {},
   "outputs": [
    {
     "data": {
      "text/plain": [
       "array([[  1.00000000e-02,   3.67756555e-02,   3.77192699e-02],\n",
       "       [  1.27000824e-02,   3.01153782e-02,   2.66507066e-02],\n",
       "       [  1.61292093e-02,  -1.20252637e-02,   2.03745165e-02],\n",
       "       [  2.04842287e-02,   4.19160698e-02,   1.66012085e-02],\n",
       "       [  2.60151392e-02,   2.85922373e-02,   8.88262369e-03],\n",
       "       [  3.30394412e-02,   2.73066512e-02,   1.07639763e-02],\n",
       "       [  4.19603625e-02,   1.67715122e-02,   7.61086528e-03],\n",
       "       [  5.32900062e-02,   2.15029314e-02,   7.63307734e-03],\n",
       "       [  6.76787469e-02,   2.08036681e-03,   4.01187120e-03],\n",
       "       [  8.59525662e-02,   1.29708493e-02,   4.88814210e-03],\n",
       "       [  1.09160467e-01,   7.58715424e-03,   4.54456279e-03],\n",
       "       [  1.38634693e-01,   1.16572318e-02,   3.13941376e-03],\n",
       "       [  1.76067202e-01,   1.16036533e-02,   2.05859652e-03],\n",
       "       [  2.23606798e-01,   1.03811366e-02,   2.28876970e-03],\n",
       "       [  2.83982476e-01,   1.53371583e-02,   1.76029229e-03],\n",
       "       [  3.60660084e-01,   1.29519818e-02,   1.52901354e-03],\n",
       "       [  4.58041278e-01,   8.77546042e-03,   1.42305991e-03],\n",
       "       [  5.81716198e-01,   7.47161580e-03,   1.80048321e-03],\n",
       "       [  7.38784364e-01,   8.14891854e-03,   1.35776092e-03],\n",
       "       [  9.38262230e-01,   5.75388194e-03,   1.31810677e-03],\n",
       "       [  1.19160076e+00,   4.81218855e-03,   9.44922863e-04],\n",
       "       [  1.51334279e+00,   3.62063526e-03,   9.93376384e-04],\n",
       "       [  1.92195781e+00,   3.06311646e-03,   8.76961532e-04],\n",
       "       [  2.44090225e+00,   2.71109695e-03,   8.12995190e-04],\n",
       "       [  3.09996598e+00,   2.19015924e-03,   6.19751099e-04],\n",
       "       [  3.93698233e+00,   1.47326173e-03,   5.71743656e-04],\n",
       "       [  5.00000000e+00,   4.01217523e-04,   4.27800626e-04]])"
      ]
     },
     "execution_count": 39,
     "metadata": {},
     "output_type": "execute_result"
    }
   ],
   "source": [
    "uniform"
   ]
  },
  {
   "cell_type": "code",
   "execution_count": 51,
   "metadata": {},
   "outputs": [
    {
     "data": {
      "text/plain": [
       "[<matplotlib.lines.Line2D at 0x2aaaed447f28>]"
      ]
     },
     "execution_count": 51,
     "metadata": {},
     "output_type": "execute_result"
    },
    {
     "data": {
      "image/png": "[encoded data removed]",
      "text/plain": [
       "<matplotlib.figure.Figure at 0x2aaaed3710f0>"
      ]
     },
     "metadata": {},
     "output_type": "display_data"
    }
   ],
   "source": [
    "fn='/global/cscratch1/sd/huikong/obiwan_Aug/repos_for_docker/obiwan_out/subset/sgc_run_obiwan_dr3_matched_really_masked_chunk21.fits'\n",
    "dat = fits.getdata(fn)\n",
    "\n",
    "fn2 = '/global/cscratch1/sd/huikong/obiwan_Aug/repos_for_docker/obiwan_out/subset/eBOSS_ELG_full_ALL_v4.dat_dr3_matched_really_masked_chunk21.fits'\n",
    "dat2 = fits.getdata(fn2)\n",
    "\n",
    "plt.plot(dat['ra'],dat['dec'],'r,')\n",
    "plt.plot(dat2['ra'],dat2['dec'],'b,')\n",
    "#plt.gca().set_xlim((0,45))"
   ]
  },
  {
   "cell_type": "code",
   "execution_count": 52,
   "metadata": {},
   "outputs": [
    {
     "data": {
      "text/plain": [
       "ColDefs(\n",
       "    name = 'RA'; format = 'D'\n",
       "    name = 'DEC'; format = 'D'\n",
       "    name = 'Z'; format = 'D'\n",
       "    name = 'WEIGHT_SYSTOT'; format = 'D'\n",
       "    name = 'WEIGHT_CP'; format = 'D'\n",
       "    name = 'WEIGHT_NOZ'; format = 'D'\n",
       "    name = 'NZ'; format = 'D'\n",
       "    name = 'WEIGHT_FKP'; format = 'D'\n",
       "    name = 'sector_TSR'; format = 'D'\n",
       "    name = 'COMP_BOSS'; format = 'D'\n",
       "    name = 'plate_MJD_SSR'; format = 'D'\n",
       "    name = 'sector_SSR'; format = 'D'\n",
       "    name = 'chunk'; format = '7A'\n",
       "    name = 'plate'; format = 'J'\n",
       "    name = 'tile'; format = 'J'\n",
       "    name = 'MJD'; format = 'J'\n",
       "    name = 'sector'; format = 'J'\n",
       "    name = 'ELG_sector'; format = 'J'\n",
       "    name = 'sector_area'; format = 'D'\n",
       "    name = 'sector_ntiles'; format = 'I'\n",
       "    name = 'sector_tiles'; format = '4I'\n",
       "    name = 'INGROUP'; format = 'J'\n",
       "    name = 'ELG_INGROUP'; format = 'J'\n",
       "    name = 'MULTGROUP'; format = 'J'\n",
       "    name = 'EBOSS_TARGET1'; format = 'K'\n",
       "    name = 'BOSSTILE_STATUS'; format = 'J'\n",
       "    name = 'TRIMMED'; format = 'J'\n",
       "    name = 'brickname'; format = '8A'\n",
       "    name = 'decals_objid'; format = 'J'\n",
       "    name = 'decals_uniqid'; format = '27A'\n",
       "    name = 'decals_dr'; format = '20A'\n",
       "    name = 'type'; format = '5A'\n",
       "    name = 'ebv'; format = 'D'\n",
       "    name = 'nobs_g'; format = 'J'\n",
       "    name = 'nobs_r'; format = 'J'\n",
       "    name = 'nobs_z'; format = 'J'\n",
       "    name = 'psfdepth_g'; format = 'D'\n",
       "    name = 'psfdepth_r'; format = 'D'\n",
       "    name = 'psfdepth_z'; format = 'D'\n",
       "    name = 'galdepth_g'; format = 'D'\n",
       "    name = 'galdepth_r'; format = 'D'\n",
       "    name = 'galdepth_z'; format = 'D'\n",
       "    name = 'psfsize_g'; format = 'D'\n",
       "    name = 'psfsize_r'; format = 'D'\n",
       "    name = 'psfsize_z'; format = 'D'\n",
       "    name = 'g'; format = 'D'\n",
       "    name = 'gr'; format = 'D'\n",
       "    name = 'rz'; format = 'D'\n",
       "    name = 'hpgaiastardens'; format = 'D'\n",
       "    name = 'IMATCH'; format = 'I'\n",
       "    name = 'EBOSS_TARGET_ID'; format = 'K'\n",
       "    name = 'hasfiber'; format = 'I'\n",
       "    name = 'CARTID'; format = 'J'\n",
       "    name = 'XFOCAL'; format = 'D'\n",
       "    name = 'YFOCAL'; format = 'D'\n",
       "    name = 'FIBERID'; format = 'J'\n",
       "    name = 'PLUG_RA'; format = 'D'\n",
       "    name = 'PLUG_DEC'; format = 'D'\n",
       "    name = 'plate_rSN2'; format = 'D'\n",
       "    name = 'SN_MEDIAN'; format = '5D'\n",
       "    name = 'SN_MEDIAN_ALL'; format = 'D'\n",
       "    name = 'plate_MJD_SN_MEDIAN_ALL'; format = 'D'\n",
       "    name = 'Z_ok'; format = 'L'\n",
       "    name = 'CHI2'; format = 'D'\n",
       "    name = 'DELTACHI2'; format = 'D'\n",
       "    name = 'COEFF'; format = '10D'\n",
       "    name = 'ZERR'; format = 'D'\n",
       "    name = 'ZWARN'; format = 'K'\n",
       "    name = 'NPIXELS'; format = 'K'\n",
       "    name = 'SPECTYPE'; format = '6A'\n",
       "    name = 'SUBTYPE'; format = '6A'\n",
       "    name = 'NCOEFF'; format = 'K'\n",
       "    name = 'fast_id'; format = 'J'\n",
       "    name = 'fast_z'; format = 'D'\n",
       "    name = 'fast_lmass'; format = 'D'\n",
       "    name = 'centerpost'; format = 'L'\n",
       "    name = 'MODEL_Z'; format = 'D'\n",
       "    name = 'zfail_platesn'; format = 'D'\n",
       "    name = 'zfail_fiberid'; format = 'D'\n",
       "    name = 'VETOMASK'; format = 'B'\n",
       "    name = 'MCHUNK'; format = 'B'\n",
       ")"
      ]
     },
     "execution_count": 52,
     "metadata": {},
     "output_type": "execute_result"
    }
   ],
   "source": [
    "dat2.columns"
   ]
  },
  {
   "cell_type": "code",
   "execution_count": null,
   "metadata": {},
   "outputs": [],
   "source": []
  }
 ],
 "metadata": {
  "kernelspec": {
   "display_name": "DESI 18.7",
   "language": "python",
   "name": "desi-18.7"
  },
  "language_info": {
   "codemirror_mode": {
    "name": "ipython",
    "version": 3
   },
   "file_extension": ".py",
   "mimetype": "text/x-python",
   "name": "python",
   "nbconvert_exporter": "python",
   "pygments_lexer": "ipython3",
   "version": "3.6.6"
  }
 },
 "nbformat": 4,
 "nbformat_minor": 2
}
